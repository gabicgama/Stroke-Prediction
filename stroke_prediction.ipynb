{
 "cells": [
  {
   "cell_type": "markdown",
   "metadata": {
    "id": "NFCgTf7JrdpC"
   },
   "source": [
    "<h1 style=\"text-align:center\"> PREVISÃO DE AVC </h1>"
   ]
  },
  {
   "cell_type": "markdown",
   "metadata": {
    "id": "sHvjBE1ArdpQ"
   },
   "source": [
    "# CARREGANDO OS DADOS"
   ]
  },
  {
   "cell_type": "code",
   "execution_count": 1,
   "metadata": {
    "id": "Pgxj6QtLrdpS"
   },
   "outputs": [],
   "source": [
    "import pandas as pd\n",
    "import numpy as np\n",
    "\n",
    "# Carregando o dataset\n",
    "df = pd.read_csv('https://raw.githubusercontent.com/gabicgama/Stroke-Prediction/main/notebook/csv/healthcare-dataset-stroke-data.csv')"
   ]
  },
  {
   "cell_type": "code",
   "execution_count": 2,
   "metadata": {
    "colab": {
     "base_uri": "https://localhost:8080/"
    },
    "id": "D18IZWZpBR5N",
    "outputId": "f2a39aa9-93ad-4c1e-a2a1-6a7b89bff5a7"
   },
   "outputs": [
    {
     "name": "stdout",
     "output_type": "stream",
     "text": [
      "<class 'pandas.core.frame.DataFrame'>\n",
      "RangeIndex: 5110 entries, 0 to 5109\n",
      "Data columns (total 12 columns):\n",
      " #   Column             Non-Null Count  Dtype  \n",
      "---  ------             --------------  -----  \n",
      " 0   id                 5110 non-null   int64  \n",
      " 1   gender             5110 non-null   object \n",
      " 2   age                5110 non-null   float64\n",
      " 3   hypertension       5110 non-null   int64  \n",
      " 4   heart_disease      5110 non-null   int64  \n",
      " 5   ever_married       5110 non-null   object \n",
      " 6   work_type          5110 non-null   object \n",
      " 7   Residence_type     5110 non-null   object \n",
      " 8   avg_glucose_level  5110 non-null   float64\n",
      " 9   bmi                4909 non-null   float64\n",
      " 10  smoking_status     5110 non-null   object \n",
      " 11  stroke             5110 non-null   int64  \n",
      "dtypes: float64(3), int64(4), object(5)\n",
      "memory usage: 479.2+ KB\n"
     ]
    }
   ],
   "source": [
    "df.info()"
   ]
  },
  {
   "cell_type": "code",
   "execution_count": 3,
   "metadata": {
    "id": "5WZN5R0iy3Bq"
   },
   "outputs": [],
   "source": [
    "df.drop(\"id\", axis=1, inplace=True)"
   ]
  },
  {
   "cell_type": "code",
   "execution_count": 4,
   "metadata": {
    "colab": {
     "base_uri": "https://localhost:8080/",
     "height": 206
    },
    "id": "o465dEjYrdpY",
    "outputId": "d274e8e6-aa05-428c-b372-4acaa03b4284"
   },
   "outputs": [
    {
     "data": {
      "text/html": [
       "<div>\n",
       "<style scoped>\n",
       "    .dataframe tbody tr th:only-of-type {\n",
       "        vertical-align: middle;\n",
       "    }\n",
       "\n",
       "    .dataframe tbody tr th {\n",
       "        vertical-align: top;\n",
       "    }\n",
       "\n",
       "    .dataframe thead th {\n",
       "        text-align: right;\n",
       "    }\n",
       "</style>\n",
       "<table border=\"1\" class=\"dataframe\">\n",
       "  <thead>\n",
       "    <tr style=\"text-align: right;\">\n",
       "      <th></th>\n",
       "      <th>gender</th>\n",
       "      <th>age</th>\n",
       "      <th>hypertension</th>\n",
       "      <th>heart_disease</th>\n",
       "      <th>ever_married</th>\n",
       "      <th>work_type</th>\n",
       "      <th>Residence_type</th>\n",
       "      <th>avg_glucose_level</th>\n",
       "      <th>bmi</th>\n",
       "      <th>smoking_status</th>\n",
       "      <th>stroke</th>\n",
       "    </tr>\n",
       "  </thead>\n",
       "  <tbody>\n",
       "    <tr>\n",
       "      <th>0</th>\n",
       "      <td>Male</td>\n",
       "      <td>67.0</td>\n",
       "      <td>0</td>\n",
       "      <td>1</td>\n",
       "      <td>Yes</td>\n",
       "      <td>Private</td>\n",
       "      <td>Urban</td>\n",
       "      <td>228.69</td>\n",
       "      <td>36.6</td>\n",
       "      <td>formerly smoked</td>\n",
       "      <td>1</td>\n",
       "    </tr>\n",
       "    <tr>\n",
       "      <th>1</th>\n",
       "      <td>Female</td>\n",
       "      <td>61.0</td>\n",
       "      <td>0</td>\n",
       "      <td>0</td>\n",
       "      <td>Yes</td>\n",
       "      <td>Self-employed</td>\n",
       "      <td>Rural</td>\n",
       "      <td>202.21</td>\n",
       "      <td>NaN</td>\n",
       "      <td>never smoked</td>\n",
       "      <td>1</td>\n",
       "    </tr>\n",
       "    <tr>\n",
       "      <th>2</th>\n",
       "      <td>Male</td>\n",
       "      <td>80.0</td>\n",
       "      <td>0</td>\n",
       "      <td>1</td>\n",
       "      <td>Yes</td>\n",
       "      <td>Private</td>\n",
       "      <td>Rural</td>\n",
       "      <td>105.92</td>\n",
       "      <td>32.5</td>\n",
       "      <td>never smoked</td>\n",
       "      <td>1</td>\n",
       "    </tr>\n",
       "    <tr>\n",
       "      <th>3</th>\n",
       "      <td>Female</td>\n",
       "      <td>49.0</td>\n",
       "      <td>0</td>\n",
       "      <td>0</td>\n",
       "      <td>Yes</td>\n",
       "      <td>Private</td>\n",
       "      <td>Urban</td>\n",
       "      <td>171.23</td>\n",
       "      <td>34.4</td>\n",
       "      <td>smokes</td>\n",
       "      <td>1</td>\n",
       "    </tr>\n",
       "    <tr>\n",
       "      <th>4</th>\n",
       "      <td>Female</td>\n",
       "      <td>79.0</td>\n",
       "      <td>1</td>\n",
       "      <td>0</td>\n",
       "      <td>Yes</td>\n",
       "      <td>Self-employed</td>\n",
       "      <td>Rural</td>\n",
       "      <td>174.12</td>\n",
       "      <td>24.0</td>\n",
       "      <td>never smoked</td>\n",
       "      <td>1</td>\n",
       "    </tr>\n",
       "  </tbody>\n",
       "</table>\n",
       "</div>"
      ],
      "text/plain": [
       "   gender   age  hypertension  heart_disease ever_married      work_type  \\\n",
       "0    Male  67.0             0              1          Yes        Private   \n",
       "1  Female  61.0             0              0          Yes  Self-employed   \n",
       "2    Male  80.0             0              1          Yes        Private   \n",
       "3  Female  49.0             0              0          Yes        Private   \n",
       "4  Female  79.0             1              0          Yes  Self-employed   \n",
       "\n",
       "  Residence_type  avg_glucose_level   bmi   smoking_status  stroke  \n",
       "0          Urban             228.69  36.6  formerly smoked       1  \n",
       "1          Rural             202.21   NaN     never smoked       1  \n",
       "2          Rural             105.92  32.5     never smoked       1  \n",
       "3          Urban             171.23  34.4           smokes       1  \n",
       "4          Rural             174.12  24.0     never smoked       1  "
      ]
     },
     "execution_count": 4,
     "metadata": {},
     "output_type": "execute_result"
    }
   ],
   "source": [
    "df.head(5)\n"
   ]
  },
  {
   "cell_type": "code",
   "execution_count": 5,
   "metadata": {
    "colab": {
     "base_uri": "https://localhost:8080/",
     "height": 300
    },
    "id": "6195izMFrdpc",
    "outputId": "6d2a414f-0665-401d-b197-f6ab6852c9ad"
   },
   "outputs": [
    {
     "data": {
      "text/html": [
       "<div>\n",
       "<style scoped>\n",
       "    .dataframe tbody tr th:only-of-type {\n",
       "        vertical-align: middle;\n",
       "    }\n",
       "\n",
       "    .dataframe tbody tr th {\n",
       "        vertical-align: top;\n",
       "    }\n",
       "\n",
       "    .dataframe thead th {\n",
       "        text-align: right;\n",
       "    }\n",
       "</style>\n",
       "<table border=\"1\" class=\"dataframe\">\n",
       "  <thead>\n",
       "    <tr style=\"text-align: right;\">\n",
       "      <th></th>\n",
       "      <th>age</th>\n",
       "      <th>hypertension</th>\n",
       "      <th>heart_disease</th>\n",
       "      <th>avg_glucose_level</th>\n",
       "      <th>bmi</th>\n",
       "      <th>stroke</th>\n",
       "    </tr>\n",
       "  </thead>\n",
       "  <tbody>\n",
       "    <tr>\n",
       "      <th>count</th>\n",
       "      <td>5110.000000</td>\n",
       "      <td>5110.000000</td>\n",
       "      <td>5110.000000</td>\n",
       "      <td>5110.000000</td>\n",
       "      <td>4909.000000</td>\n",
       "      <td>5110.000000</td>\n",
       "    </tr>\n",
       "    <tr>\n",
       "      <th>mean</th>\n",
       "      <td>43.226614</td>\n",
       "      <td>0.097456</td>\n",
       "      <td>0.054012</td>\n",
       "      <td>106.147677</td>\n",
       "      <td>28.893237</td>\n",
       "      <td>0.048728</td>\n",
       "    </tr>\n",
       "    <tr>\n",
       "      <th>std</th>\n",
       "      <td>22.612647</td>\n",
       "      <td>0.296607</td>\n",
       "      <td>0.226063</td>\n",
       "      <td>45.283560</td>\n",
       "      <td>7.854067</td>\n",
       "      <td>0.215320</td>\n",
       "    </tr>\n",
       "    <tr>\n",
       "      <th>min</th>\n",
       "      <td>0.080000</td>\n",
       "      <td>0.000000</td>\n",
       "      <td>0.000000</td>\n",
       "      <td>55.120000</td>\n",
       "      <td>10.300000</td>\n",
       "      <td>0.000000</td>\n",
       "    </tr>\n",
       "    <tr>\n",
       "      <th>25%</th>\n",
       "      <td>25.000000</td>\n",
       "      <td>0.000000</td>\n",
       "      <td>0.000000</td>\n",
       "      <td>77.245000</td>\n",
       "      <td>23.500000</td>\n",
       "      <td>0.000000</td>\n",
       "    </tr>\n",
       "    <tr>\n",
       "      <th>50%</th>\n",
       "      <td>45.000000</td>\n",
       "      <td>0.000000</td>\n",
       "      <td>0.000000</td>\n",
       "      <td>91.885000</td>\n",
       "      <td>28.100000</td>\n",
       "      <td>0.000000</td>\n",
       "    </tr>\n",
       "    <tr>\n",
       "      <th>75%</th>\n",
       "      <td>61.000000</td>\n",
       "      <td>0.000000</td>\n",
       "      <td>0.000000</td>\n",
       "      <td>114.090000</td>\n",
       "      <td>33.100000</td>\n",
       "      <td>0.000000</td>\n",
       "    </tr>\n",
       "    <tr>\n",
       "      <th>max</th>\n",
       "      <td>82.000000</td>\n",
       "      <td>1.000000</td>\n",
       "      <td>1.000000</td>\n",
       "      <td>271.740000</td>\n",
       "      <td>97.600000</td>\n",
       "      <td>1.000000</td>\n",
       "    </tr>\n",
       "  </tbody>\n",
       "</table>\n",
       "</div>"
      ],
      "text/plain": [
       "               age  hypertension  heart_disease  avg_glucose_level  \\\n",
       "count  5110.000000   5110.000000    5110.000000        5110.000000   \n",
       "mean     43.226614      0.097456       0.054012         106.147677   \n",
       "std      22.612647      0.296607       0.226063          45.283560   \n",
       "min       0.080000      0.000000       0.000000          55.120000   \n",
       "25%      25.000000      0.000000       0.000000          77.245000   \n",
       "50%      45.000000      0.000000       0.000000          91.885000   \n",
       "75%      61.000000      0.000000       0.000000         114.090000   \n",
       "max      82.000000      1.000000       1.000000         271.740000   \n",
       "\n",
       "               bmi       stroke  \n",
       "count  4909.000000  5110.000000  \n",
       "mean     28.893237     0.048728  \n",
       "std       7.854067     0.215320  \n",
       "min      10.300000     0.000000  \n",
       "25%      23.500000     0.000000  \n",
       "50%      28.100000     0.000000  \n",
       "75%      33.100000     0.000000  \n",
       "max      97.600000     1.000000  "
      ]
     },
     "execution_count": 5,
     "metadata": {},
     "output_type": "execute_result"
    }
   ],
   "source": [
    "df.describe()"
   ]
  },
  {
   "cell_type": "code",
   "execution_count": 6,
   "metadata": {
    "id": "RfjLGeZnrdp3"
   },
   "outputs": [],
   "source": [
    "#Como BMI tem valores missing vamos preencher com a moda pegando a ocorrencia zero pois é  primeira do array \n",
    "#from scipy.stats import mode\n",
    "#df['bmi'].fillna(mode(df['bmi']).mode[0], inplace=True)"
   ]
  },
  {
   "cell_type": "code",
   "execution_count": 7,
   "metadata": {
    "colab": {
     "base_uri": "https://localhost:8080/"
    },
    "id": "gQrhzV4CkENB",
    "outputId": "1f42fbe5-f591-45ce-b403-1bef90910752"
   },
   "outputs": [
    {
     "data": {
      "text/plain": [
       "gender               0\n",
       "age                  0\n",
       "hypertension         0\n",
       "heart_disease        0\n",
       "ever_married         0\n",
       "work_type            0\n",
       "Residence_type       0\n",
       "avg_glucose_level    0\n",
       "bmi                  0\n",
       "smoking_status       0\n",
       "stroke               0\n",
       "dtype: int64"
      ]
     },
     "execution_count": 7,
     "metadata": {},
     "output_type": "execute_result"
    }
   ],
   "source": [
    "#Preenchendo valores de BMI com a média\n",
    "df['bmi'] = df['bmi'].fillna(round (df['bmi'].median(), 2))\n",
    "df.isnull().sum()"
   ]
  },
  {
   "cell_type": "code",
   "execution_count": 8,
   "metadata": {
    "colab": {
     "base_uri": "https://localhost:8080/"
    },
    "id": "yRK1TI5IiWzJ",
    "outputId": "89f752d7-b7e8-4a7a-d028-7c89013c4ca5"
   },
   "outputs": [
    {
     "name": "stdout",
     "output_type": "stream",
     "text": [
      "<class 'pandas.core.frame.DataFrame'>\n",
      "RangeIndex: 5110 entries, 0 to 5109\n",
      "Data columns (total 11 columns):\n",
      " #   Column             Non-Null Count  Dtype  \n",
      "---  ------             --------------  -----  \n",
      " 0   gender             5110 non-null   object \n",
      " 1   age                5110 non-null   float64\n",
      " 2   hypertension       5110 non-null   int64  \n",
      " 3   heart_disease      5110 non-null   int64  \n",
      " 4   ever_married       5110 non-null   object \n",
      " 5   work_type          5110 non-null   object \n",
      " 6   Residence_type     5110 non-null   object \n",
      " 7   avg_glucose_level  5110 non-null   float64\n",
      " 8   bmi                5110 non-null   float64\n",
      " 9   smoking_status     5110 non-null   object \n",
      " 10  stroke             5110 non-null   int64  \n",
      "dtypes: float64(3), int64(3), object(5)\n",
      "memory usage: 439.3+ KB\n"
     ]
    }
   ],
   "source": [
    "df.info()"
   ]
  },
  {
   "cell_type": "code",
   "execution_count": 9,
   "metadata": {
    "colab": {
     "base_uri": "https://localhost:8080/",
     "height": 206
    },
    "id": "-_RM70sGrdp4",
    "outputId": "7076f91d-4921-4356-bf2a-1bcbb53ef197"
   },
   "outputs": [
    {
     "data": {
      "text/html": [
       "<div>\n",
       "<style scoped>\n",
       "    .dataframe tbody tr th:only-of-type {\n",
       "        vertical-align: middle;\n",
       "    }\n",
       "\n",
       "    .dataframe tbody tr th {\n",
       "        vertical-align: top;\n",
       "    }\n",
       "\n",
       "    .dataframe thead th {\n",
       "        text-align: right;\n",
       "    }\n",
       "</style>\n",
       "<table border=\"1\" class=\"dataframe\">\n",
       "  <thead>\n",
       "    <tr style=\"text-align: right;\">\n",
       "      <th></th>\n",
       "      <th>gender</th>\n",
       "      <th>age</th>\n",
       "      <th>hypertension</th>\n",
       "      <th>heart_disease</th>\n",
       "      <th>ever_married</th>\n",
       "      <th>work_type</th>\n",
       "      <th>Residence_type</th>\n",
       "      <th>avg_glucose_level</th>\n",
       "      <th>bmi</th>\n",
       "      <th>smoking_status</th>\n",
       "      <th>stroke</th>\n",
       "    </tr>\n",
       "  </thead>\n",
       "  <tbody>\n",
       "    <tr>\n",
       "      <th>0</th>\n",
       "      <td>Male</td>\n",
       "      <td>67.0</td>\n",
       "      <td>0</td>\n",
       "      <td>1</td>\n",
       "      <td>Yes</td>\n",
       "      <td>Private</td>\n",
       "      <td>Urban</td>\n",
       "      <td>228.69</td>\n",
       "      <td>36.6</td>\n",
       "      <td>formerly smoked</td>\n",
       "      <td>1</td>\n",
       "    </tr>\n",
       "    <tr>\n",
       "      <th>1</th>\n",
       "      <td>Female</td>\n",
       "      <td>61.0</td>\n",
       "      <td>0</td>\n",
       "      <td>0</td>\n",
       "      <td>Yes</td>\n",
       "      <td>Self-employed</td>\n",
       "      <td>Rural</td>\n",
       "      <td>202.21</td>\n",
       "      <td>28.1</td>\n",
       "      <td>never smoked</td>\n",
       "      <td>1</td>\n",
       "    </tr>\n",
       "    <tr>\n",
       "      <th>2</th>\n",
       "      <td>Male</td>\n",
       "      <td>80.0</td>\n",
       "      <td>0</td>\n",
       "      <td>1</td>\n",
       "      <td>Yes</td>\n",
       "      <td>Private</td>\n",
       "      <td>Rural</td>\n",
       "      <td>105.92</td>\n",
       "      <td>32.5</td>\n",
       "      <td>never smoked</td>\n",
       "      <td>1</td>\n",
       "    </tr>\n",
       "    <tr>\n",
       "      <th>3</th>\n",
       "      <td>Female</td>\n",
       "      <td>49.0</td>\n",
       "      <td>0</td>\n",
       "      <td>0</td>\n",
       "      <td>Yes</td>\n",
       "      <td>Private</td>\n",
       "      <td>Urban</td>\n",
       "      <td>171.23</td>\n",
       "      <td>34.4</td>\n",
       "      <td>smokes</td>\n",
       "      <td>1</td>\n",
       "    </tr>\n",
       "    <tr>\n",
       "      <th>4</th>\n",
       "      <td>Female</td>\n",
       "      <td>79.0</td>\n",
       "      <td>1</td>\n",
       "      <td>0</td>\n",
       "      <td>Yes</td>\n",
       "      <td>Self-employed</td>\n",
       "      <td>Rural</td>\n",
       "      <td>174.12</td>\n",
       "      <td>24.0</td>\n",
       "      <td>never smoked</td>\n",
       "      <td>1</td>\n",
       "    </tr>\n",
       "  </tbody>\n",
       "</table>\n",
       "</div>"
      ],
      "text/plain": [
       "   gender   age  hypertension  heart_disease ever_married      work_type  \\\n",
       "0    Male  67.0             0              1          Yes        Private   \n",
       "1  Female  61.0             0              0          Yes  Self-employed   \n",
       "2    Male  80.0             0              1          Yes        Private   \n",
       "3  Female  49.0             0              0          Yes        Private   \n",
       "4  Female  79.0             1              0          Yes  Self-employed   \n",
       "\n",
       "  Residence_type  avg_glucose_level   bmi   smoking_status  stroke  \n",
       "0          Urban             228.69  36.6  formerly smoked       1  \n",
       "1          Rural             202.21  28.1     never smoked       1  \n",
       "2          Rural             105.92  32.5     never smoked       1  \n",
       "3          Urban             171.23  34.4           smokes       1  \n",
       "4          Rural             174.12  24.0     never smoked       1  "
      ]
     },
     "execution_count": 9,
     "metadata": {},
     "output_type": "execute_result"
    }
   ],
   "source": [
    "df.head(5)"
   ]
  },
  {
   "cell_type": "code",
   "execution_count": 10,
   "metadata": {
    "colab": {
     "base_uri": "https://localhost:8080/",
     "height": 300
    },
    "id": "4_1DnWmXrdp7",
    "outputId": "fb8524e0-588d-482b-9ed0-c17c98558b13"
   },
   "outputs": [
    {
     "data": {
      "text/html": [
       "<div>\n",
       "<style scoped>\n",
       "    .dataframe tbody tr th:only-of-type {\n",
       "        vertical-align: middle;\n",
       "    }\n",
       "\n",
       "    .dataframe tbody tr th {\n",
       "        vertical-align: top;\n",
       "    }\n",
       "\n",
       "    .dataframe thead th {\n",
       "        text-align: right;\n",
       "    }\n",
       "</style>\n",
       "<table border=\"1\" class=\"dataframe\">\n",
       "  <thead>\n",
       "    <tr style=\"text-align: right;\">\n",
       "      <th></th>\n",
       "      <th>age</th>\n",
       "      <th>hypertension</th>\n",
       "      <th>heart_disease</th>\n",
       "      <th>avg_glucose_level</th>\n",
       "      <th>bmi</th>\n",
       "      <th>stroke</th>\n",
       "    </tr>\n",
       "  </thead>\n",
       "  <tbody>\n",
       "    <tr>\n",
       "      <th>count</th>\n",
       "      <td>5110.000000</td>\n",
       "      <td>5110.000000</td>\n",
       "      <td>5110.000000</td>\n",
       "      <td>5110.000000</td>\n",
       "      <td>5110.000000</td>\n",
       "      <td>5110.000000</td>\n",
       "    </tr>\n",
       "    <tr>\n",
       "      <th>mean</th>\n",
       "      <td>43.226614</td>\n",
       "      <td>0.097456</td>\n",
       "      <td>0.054012</td>\n",
       "      <td>106.147677</td>\n",
       "      <td>28.862035</td>\n",
       "      <td>0.048728</td>\n",
       "    </tr>\n",
       "    <tr>\n",
       "      <th>std</th>\n",
       "      <td>22.612647</td>\n",
       "      <td>0.296607</td>\n",
       "      <td>0.226063</td>\n",
       "      <td>45.283560</td>\n",
       "      <td>7.699562</td>\n",
       "      <td>0.215320</td>\n",
       "    </tr>\n",
       "    <tr>\n",
       "      <th>min</th>\n",
       "      <td>0.080000</td>\n",
       "      <td>0.000000</td>\n",
       "      <td>0.000000</td>\n",
       "      <td>55.120000</td>\n",
       "      <td>10.300000</td>\n",
       "      <td>0.000000</td>\n",
       "    </tr>\n",
       "    <tr>\n",
       "      <th>25%</th>\n",
       "      <td>25.000000</td>\n",
       "      <td>0.000000</td>\n",
       "      <td>0.000000</td>\n",
       "      <td>77.245000</td>\n",
       "      <td>23.800000</td>\n",
       "      <td>0.000000</td>\n",
       "    </tr>\n",
       "    <tr>\n",
       "      <th>50%</th>\n",
       "      <td>45.000000</td>\n",
       "      <td>0.000000</td>\n",
       "      <td>0.000000</td>\n",
       "      <td>91.885000</td>\n",
       "      <td>28.100000</td>\n",
       "      <td>0.000000</td>\n",
       "    </tr>\n",
       "    <tr>\n",
       "      <th>75%</th>\n",
       "      <td>61.000000</td>\n",
       "      <td>0.000000</td>\n",
       "      <td>0.000000</td>\n",
       "      <td>114.090000</td>\n",
       "      <td>32.800000</td>\n",
       "      <td>0.000000</td>\n",
       "    </tr>\n",
       "    <tr>\n",
       "      <th>max</th>\n",
       "      <td>82.000000</td>\n",
       "      <td>1.000000</td>\n",
       "      <td>1.000000</td>\n",
       "      <td>271.740000</td>\n",
       "      <td>97.600000</td>\n",
       "      <td>1.000000</td>\n",
       "    </tr>\n",
       "  </tbody>\n",
       "</table>\n",
       "</div>"
      ],
      "text/plain": [
       "               age  hypertension  heart_disease  avg_glucose_level  \\\n",
       "count  5110.000000   5110.000000    5110.000000        5110.000000   \n",
       "mean     43.226614      0.097456       0.054012         106.147677   \n",
       "std      22.612647      0.296607       0.226063          45.283560   \n",
       "min       0.080000      0.000000       0.000000          55.120000   \n",
       "25%      25.000000      0.000000       0.000000          77.245000   \n",
       "50%      45.000000      0.000000       0.000000          91.885000   \n",
       "75%      61.000000      0.000000       0.000000         114.090000   \n",
       "max      82.000000      1.000000       1.000000         271.740000   \n",
       "\n",
       "               bmi       stroke  \n",
       "count  5110.000000  5110.000000  \n",
       "mean     28.862035     0.048728  \n",
       "std       7.699562     0.215320  \n",
       "min      10.300000     0.000000  \n",
       "25%      23.800000     0.000000  \n",
       "50%      28.100000     0.000000  \n",
       "75%      32.800000     0.000000  \n",
       "max      97.600000     1.000000  "
      ]
     },
     "execution_count": 10,
     "metadata": {},
     "output_type": "execute_result"
    }
   ],
   "source": [
    "df.describe()"
   ]
  },
  {
   "cell_type": "markdown",
   "metadata": {
    "id": "ShWkEKiZrdp9"
   },
   "source": [
    "# PREPARAÇÃO E TRATAMENTO"
   ]
  },
  {
   "cell_type": "code",
   "execution_count": 11,
   "metadata": {
    "colab": {
     "base_uri": "https://localhost:8080/",
     "height": 206
    },
    "id": "pR3GfSyygg9x",
    "outputId": "86be260f-d380-4f86-8065-dcc9404aa4fd"
   },
   "outputs": [
    {
     "data": {
      "text/html": [
       "<div>\n",
       "<style scoped>\n",
       "    .dataframe tbody tr th:only-of-type {\n",
       "        vertical-align: middle;\n",
       "    }\n",
       "\n",
       "    .dataframe tbody tr th {\n",
       "        vertical-align: top;\n",
       "    }\n",
       "\n",
       "    .dataframe thead th {\n",
       "        text-align: right;\n",
       "    }\n",
       "</style>\n",
       "<table border=\"1\" class=\"dataframe\">\n",
       "  <thead>\n",
       "    <tr style=\"text-align: right;\">\n",
       "      <th></th>\n",
       "      <th>gender</th>\n",
       "      <th>age</th>\n",
       "      <th>hypertension</th>\n",
       "      <th>heart_disease</th>\n",
       "      <th>ever_married</th>\n",
       "      <th>work_type</th>\n",
       "      <th>Residence_type</th>\n",
       "      <th>avg_glucose_level</th>\n",
       "      <th>bmi</th>\n",
       "      <th>smoking_status</th>\n",
       "      <th>stroke</th>\n",
       "    </tr>\n",
       "  </thead>\n",
       "  <tbody>\n",
       "    <tr>\n",
       "      <th>0</th>\n",
       "      <td>Male</td>\n",
       "      <td>67.0</td>\n",
       "      <td>0</td>\n",
       "      <td>1</td>\n",
       "      <td>Yes</td>\n",
       "      <td>Private</td>\n",
       "      <td>Urban</td>\n",
       "      <td>228.69</td>\n",
       "      <td>36.6</td>\n",
       "      <td>formerly smoked</td>\n",
       "      <td>1</td>\n",
       "    </tr>\n",
       "    <tr>\n",
       "      <th>1</th>\n",
       "      <td>Female</td>\n",
       "      <td>61.0</td>\n",
       "      <td>0</td>\n",
       "      <td>0</td>\n",
       "      <td>Yes</td>\n",
       "      <td>Self-employed</td>\n",
       "      <td>Rural</td>\n",
       "      <td>202.21</td>\n",
       "      <td>28.1</td>\n",
       "      <td>never smoked</td>\n",
       "      <td>1</td>\n",
       "    </tr>\n",
       "    <tr>\n",
       "      <th>2</th>\n",
       "      <td>Male</td>\n",
       "      <td>80.0</td>\n",
       "      <td>0</td>\n",
       "      <td>1</td>\n",
       "      <td>Yes</td>\n",
       "      <td>Private</td>\n",
       "      <td>Rural</td>\n",
       "      <td>105.92</td>\n",
       "      <td>32.5</td>\n",
       "      <td>never smoked</td>\n",
       "      <td>1</td>\n",
       "    </tr>\n",
       "    <tr>\n",
       "      <th>3</th>\n",
       "      <td>Female</td>\n",
       "      <td>49.0</td>\n",
       "      <td>0</td>\n",
       "      <td>0</td>\n",
       "      <td>Yes</td>\n",
       "      <td>Private</td>\n",
       "      <td>Urban</td>\n",
       "      <td>171.23</td>\n",
       "      <td>34.4</td>\n",
       "      <td>smokes</td>\n",
       "      <td>1</td>\n",
       "    </tr>\n",
       "    <tr>\n",
       "      <th>4</th>\n",
       "      <td>Female</td>\n",
       "      <td>79.0</td>\n",
       "      <td>1</td>\n",
       "      <td>0</td>\n",
       "      <td>Yes</td>\n",
       "      <td>Self-employed</td>\n",
       "      <td>Rural</td>\n",
       "      <td>174.12</td>\n",
       "      <td>24.0</td>\n",
       "      <td>never smoked</td>\n",
       "      <td>1</td>\n",
       "    </tr>\n",
       "  </tbody>\n",
       "</table>\n",
       "</div>"
      ],
      "text/plain": [
       "   gender   age  hypertension  heart_disease ever_married      work_type  \\\n",
       "0    Male  67.0             0              1          Yes        Private   \n",
       "1  Female  61.0             0              0          Yes  Self-employed   \n",
       "2    Male  80.0             0              1          Yes        Private   \n",
       "3  Female  49.0             0              0          Yes        Private   \n",
       "4  Female  79.0             1              0          Yes  Self-employed   \n",
       "\n",
       "  Residence_type  avg_glucose_level   bmi   smoking_status  stroke  \n",
       "0          Urban             228.69  36.6  formerly smoked       1  \n",
       "1          Rural             202.21  28.1     never smoked       1  \n",
       "2          Rural             105.92  32.5     never smoked       1  \n",
       "3          Urban             171.23  34.4           smokes       1  \n",
       "4          Rural             174.12  24.0     never smoked       1  "
      ]
     },
     "execution_count": 11,
     "metadata": {},
     "output_type": "execute_result"
    }
   ],
   "source": [
    "df.head()"
   ]
  },
  {
   "cell_type": "code",
   "execution_count": 12,
   "metadata": {
    "id": "vB7V7_ODrdp-"
   },
   "outputs": [],
   "source": [
    "# Dicionário para o genero - Transformando variável categórica\n",
    "dict_gender = {}\n",
    "\n",
    "i = 0\n",
    "\n",
    "# Loop pelos dados dos gêneros\n",
    "for genero in df['gender'].values:\n",
    "    if genero not in dict_gender:\n",
    "             dict_gender[genero] = i\n",
    "             i += 1"
   ]
  },
  {
   "cell_type": "code",
   "execution_count": 13,
   "metadata": {
    "colab": {
     "base_uri": "https://localhost:8080/"
    },
    "id": "KtJJPkEQrdp_",
    "outputId": "8999e391-528a-47ff-b48f-acd9024f3ce4"
   },
   "outputs": [
    {
     "name": "stdout",
     "output_type": "stream",
     "text": [
      "{'Male': 0, 'Female': 1, 'Other': 2}\n"
     ]
    }
   ],
   "source": [
    "print(dict_gender)"
   ]
  },
  {
   "cell_type": "code",
   "execution_count": 14,
   "metadata": {
    "id": "x0jZCM0vrdqA"
   },
   "outputs": [],
   "source": [
    "# Dicionário para o casado - Transformando variável categórica\n",
    "dict_ever_married = {}\n",
    "\n",
    "i = 0\n",
    "\n",
    "# Loop pelos dados dos casados\n",
    "for casado in df['ever_married'].values:\n",
    "    if casado not in dict_ever_married:\n",
    "             dict_ever_married[casado] = i\n",
    "             i += 1"
   ]
  },
  {
   "cell_type": "code",
   "execution_count": 15,
   "metadata": {
    "colab": {
     "base_uri": "https://localhost:8080/"
    },
    "id": "eU9BDzKHrdqB",
    "outputId": "d6920d08-918f-4ad8-b0d0-25d0f6ed3a9f"
   },
   "outputs": [
    {
     "name": "stdout",
     "output_type": "stream",
     "text": [
      "{'Yes': 0, 'No': 1}\n"
     ]
    }
   ],
   "source": [
    "print(dict_ever_married)"
   ]
  },
  {
   "cell_type": "code",
   "execution_count": 16,
   "metadata": {
    "id": "0veHn6H-rdqC"
   },
   "outputs": [],
   "source": [
    "# Dicionário para o tipo de trabalho\n",
    "dict_work_type = {}\n",
    "\n",
    "i = 0\n",
    "\n",
    "# Loop pelos dados dos gêneros\n",
    "for tipo in df['work_type'].values:\n",
    "    if tipo not in dict_work_type:\n",
    "             dict_work_type[tipo] = i\n",
    "             i += 1"
   ]
  },
  {
   "cell_type": "code",
   "execution_count": 17,
   "metadata": {
    "colab": {
     "base_uri": "https://localhost:8080/"
    },
    "id": "tFgrhKsyrdqD",
    "outputId": "824b9046-309d-4bf4-c5de-0631bdf99004"
   },
   "outputs": [
    {
     "name": "stdout",
     "output_type": "stream",
     "text": [
      "{'Private': 0, 'Self-employed': 1, 'Govt_job': 2, 'children': 3, 'Never_worked': 4}\n"
     ]
    }
   ],
   "source": [
    "print(dict_work_type)"
   ]
  },
  {
   "cell_type": "code",
   "execution_count": 18,
   "metadata": {
    "id": "ByOswBiOrdqE"
   },
   "outputs": [],
   "source": [
    "# Dicionário para o tipo de residência\n",
    "dict_residence_type = {}\n",
    "\n",
    "i = 0\n",
    "\n",
    "# Loop pelos dados dos tipos de residência\n",
    "for tipo in df['Residence_type'].values:\n",
    "    if tipo not in dict_residence_type:\n",
    "             dict_residence_type[tipo] = i\n",
    "             i += 1"
   ]
  },
  {
   "cell_type": "code",
   "execution_count": 19,
   "metadata": {
    "colab": {
     "base_uri": "https://localhost:8080/"
    },
    "id": "Z1Q4eEcFrdqE",
    "outputId": "c957c446-c05f-4064-8d67-66c7f25f41cc"
   },
   "outputs": [
    {
     "name": "stdout",
     "output_type": "stream",
     "text": [
      "{'Urban': 0, 'Rural': 1}\n"
     ]
    }
   ],
   "source": [
    "print(dict_residence_type)"
   ]
  },
  {
   "cell_type": "code",
   "execution_count": 20,
   "metadata": {
    "id": "pm76AuwQrdqF"
   },
   "outputs": [],
   "source": [
    "# Dicionário para o smoke status\n",
    "dict_smoking_status = {}\n",
    "\n",
    "i = 0\n",
    "\n",
    "# Loop pelos dados dos status do fumante\n",
    "for status in df['smoking_status'].values:\n",
    "    if status not in dict_smoking_status:\n",
    "             dict_smoking_status[status] = i\n",
    "             i += 1"
   ]
  },
  {
   "cell_type": "code",
   "execution_count": 21,
   "metadata": {
    "colab": {
     "base_uri": "https://localhost:8080/"
    },
    "id": "HDHpvcoZrdqH",
    "outputId": "f8457a73-b787-4de4-be88-4f43840fa064"
   },
   "outputs": [
    {
     "name": "stdout",
     "output_type": "stream",
     "text": [
      "{'formerly smoked': 0, 'never smoked': 1, 'smokes': 2, 'Unknown': 3}\n"
     ]
    }
   ],
   "source": [
    "print(dict_smoking_status)"
   ]
  },
  {
   "cell_type": "code",
   "execution_count": 22,
   "metadata": {
    "id": "QSvlxT3_rdqI"
   },
   "outputs": [],
   "source": [
    "#Define uma função genérica para transformar variável categoriacas em numéricas usando a função replace\n",
    "def converte(col, codeDict):\n",
    "  colCoded = pd.Series(col, copy=True)\n",
    "  for key, value in codeDict.items():\n",
    "    colCoded.replace(key, value, inplace=True)\n",
    "  return colCoded"
   ]
  },
  {
   "cell_type": "code",
   "execution_count": 23,
   "metadata": {
    "id": "2TF692rsrdqJ"
   },
   "outputs": [],
   "source": [
    "#convertendo as variáveis categoricas\n",
    "df[\"genero\"] = converte(df[\"gender\"], dict_gender)\n",
    "df[\"casado\"] = converte(df[\"ever_married\"], dict_ever_married)\n",
    "df[\"tipo_trabalho\"] = converte(df[\"work_type\"], dict_work_type)\n",
    "df[\"tipo_residencia\"] = converte(df[\"Residence_type\"], dict_residence_type)\n",
    "df[\"fumante\"] = converte(df[\"smoking_status\"], dict_smoking_status)\n",
    "   "
   ]
  },
  {
   "cell_type": "code",
   "execution_count": 24,
   "metadata": {
    "id": "GbJdtTtmrdqK"
   },
   "outputs": [],
   "source": [
    "#Criando faixas de idades\n",
    "lst = []\n",
    "for age in df['age'].values:\n",
    "    if age < 18.0:\n",
    "        lst.append(1)\n",
    "    elif age < 25.0:\n",
    "        lst.append(2)\n",
    "    elif age < 35.0:\n",
    "        lst.append(3)\n",
    "    elif age < 45.0:\n",
    "        lst.append(4)\n",
    "    elif age < 55.0:\n",
    "        lst.append(5)\n",
    "    elif age < 65.0:\n",
    "        lst.append(6)\n",
    "    elif age < 75.0:\n",
    "        lst.append(7)\n",
    "    else:\n",
    "        lst.append(8)\n",
    "        \n",
    "(df['idade']) = lst"
   ]
  },
  {
   "cell_type": "code",
   "execution_count": 25,
   "metadata": {
    "colab": {
     "base_uri": "https://localhost:8080/"
    },
    "id": "1gx4waDUrdqL",
    "outputId": "1a01a4e8-874d-4726-b446-dbd7dd1ad430"
   },
   "outputs": [
    {
     "data": {
      "text/plain": [
       "<bound method Series.count of 0       7\n",
       "1       6\n",
       "2       8\n",
       "3       5\n",
       "4       8\n",
       "       ..\n",
       "5105    8\n",
       "5106    8\n",
       "5107    4\n",
       "5108    5\n",
       "5109    4\n",
       "Name: idade, Length: 5110, dtype: int64>"
      ]
     },
     "execution_count": 25,
     "metadata": {},
     "output_type": "execute_result"
    }
   ],
   "source": [
    "df['idade'].count\n"
   ]
  },
  {
   "cell_type": "code",
   "execution_count": 26,
   "metadata": {
    "id": "HAS3NGv5rdqN"
   },
   "outputs": [],
   "source": [
    "#Apagando as colunas categoricas\n",
    "del df['age']\n",
    "del df['gender']\n",
    "del df['ever_married']\n",
    "del df['work_type']\n",
    "del df['Residence_type']\n",
    "del df['smoking_status']"
   ]
  },
  {
   "cell_type": "code",
   "execution_count": 27,
   "metadata": {
    "id": "54OdWI2ErdqN"
   },
   "outputs": [],
   "source": [
    "#printando nomes das colunas\n",
    "#for atb in df:\n",
    "#    print(atb) "
   ]
  },
  {
   "cell_type": "code",
   "execution_count": 28,
   "metadata": {
    "colab": {
     "base_uri": "https://localhost:8080/"
    },
    "id": "Ui_9PnqCrdqO",
    "outputId": "31980d89-98ce-493f-8c7e-455f45a0bb32"
   },
   "outputs": [
    {
     "name": "stdout",
     "output_type": "stream",
     "text": [
      "                            OLS Regression Results                            \n",
      "==============================================================================\n",
      "Dep. Variable:                 stroke   R-squared:                       0.001\n",
      "Model:                            OLS   Adj. R-squared:                  0.001\n",
      "Method:                 Least Squares   F-statistic:                     6.669\n",
      "Date:                Sun, 26 Jun 2022   Prob (F-statistic):            0.00984\n",
      "Time:                        20:02:40   Log-Likelihood:                 600.13\n",
      "No. Observations:                5110   AIC:                            -1196.\n",
      "Df Residuals:                    5108   BIC:                            -1183.\n",
      "Df Model:                           1                                         \n",
      "Covariance Type:            nonrobust                                         \n",
      "==============================================================================\n",
      "                 coef    std err          t      P>|t|      [0.025      0.975]\n",
      "------------------------------------------------------------------------------\n",
      "Intercept      0.0196      0.012      1.677      0.094      -0.003       0.042\n",
      "bmi            0.0010      0.000      2.582      0.010       0.000       0.002\n",
      "==============================================================================\n",
      "Omnibus:                     4242.606   Durbin-Watson:                   0.007\n",
      "Prob(Omnibus):                  0.000   Jarque-Bera (JB):            66254.097\n",
      "Skew:                           4.183   Prob(JB):                         0.00\n",
      "Kurtosis:                      18.530   Cond. No.                         116.\n",
      "==============================================================================\n",
      "\n",
      "Notes:\n",
      "[1] Standard Errors assume that the covariance matrix of the errors is correctly specified.\n"
     ]
    }
   ],
   "source": [
    "import statsmodels.formula.api as smf\n",
    "# Criando o Modelo de Regressão usando o algoritmo OLS \n",
    "#estimativa = smf.ols(formula = 'stroke ~ genero + age + hypertension + heart_disease + avg_glucose_level + casado + tipo_trabalho + tipo_residencia + fumante + bmi', data = df)\n",
    "\n",
    "estimativa = smf.ols(formula = 'stroke ~ bmi', data = df)\n",
    "\n",
    "# Treinando o Modelo de Regressão\n",
    "modelo = estimativa.fit()\n",
    "\n",
    "# Imprimindo o resumo do modelo\n",
    "print(modelo.summary())"
   ]
  },
  {
   "cell_type": "code",
   "execution_count": 29,
   "metadata": {
    "id": "3ceEwyQFFLKI"
   },
   "outputs": [],
   "source": [
    "df.rename(columns={'idade':'age','genero':'gender','casado':'ever_married','tipo_trabalho':'work_type','tipo_residencia':'residence_type','fumante':'smoking_status'},\n",
    "          inplace=True)"
   ]
  },
  {
   "cell_type": "code",
   "execution_count": 30,
   "metadata": {
    "colab": {
     "base_uri": "https://localhost:8080/"
    },
    "id": "2QW86_AnrdqP",
    "outputId": "af40bf50-478b-4d65-9879-bc92d7e372d4"
   },
   "outputs": [
    {
     "name": "stdout",
     "output_type": "stream",
     "text": [
      "Variavel age minimo 1 maximo 8 media 4.384344422700587 desvio padrao 2.245159537615854\n",
      "Variavel gender minimo 0 maximo 2 media 0.5863013698630137 desvio padrao 0.4929411882263363\n",
      "Variavel hypertension minimo 0 maximo 1 media 0.0974559686888454 desvio padrao 0.29660667423379117\n",
      "Variavel heart_disease minimo 0 maximo 1 media 0.05401174168297456 desvio padrao 0.22606298750336543\n",
      "Variavel ever_married minimo 0 maximo 1 media 0.34383561643835614 desvio padrao 0.47503352003736893\n",
      "Variavel work_type minimo 0 maximo 4 media 0.8379647749510764 desvio padrao 1.1186977261081688\n",
      "Variavel residence_type minimo 0 maximo 1 media 0.4919765166340509 desvio padrao 0.4999845441302679\n",
      "Variavel avg_glucose_level minimo 55.12 maximo 271.74 media 106.1476771037182 desvio padrao 45.28356015058198\n",
      "Variavel bmi minimo 10.3 maximo 97.6 media 28.862035225048924 desvio padrao 7.699562318787507\n",
      "Variavel smoking_status minimo 0 maximo 3 media 1.5855185909980432 desvio padrao 1.0925223495694898\n",
      "Variavel stroke minimo 0 maximo 1 media 0.0487279843444227 desvio padrao 0.2153198569802376\n"
     ]
    }
   ],
   "source": [
    "#Avaliando os valores minimos, máximos, média e desvio padrão\n",
    "for atb in ('age', 'gender', 'hypertension', 'heart_disease', 'ever_married', 'work_type', 'residence_type', 'avg_glucose_level', 'bmi', 'smoking_status', 'stroke'):\n",
    "    print('Variavel {} minimo {} maximo {} media {} desvio padrao {}'.format(atb, df[atb].min(), \n",
    "                                                                                  df[atb].max(),\n",
    "                                                                                  df[atb].mean(),\n",
    "                                                                                  df[atb].std()))\n",
    "                                                                                     "
   ]
  },
  {
   "cell_type": "markdown",
   "metadata": {
    "id": "9J2S5FAHrdqQ"
   },
   "source": [
    "# CORRELAÇÃO E COLINEARIDADE"
   ]
  },
  {
   "cell_type": "code",
   "execution_count": 31,
   "metadata": {
    "id": "fokyda-lrdf8"
   },
   "outputs": [],
   "source": [
    "import matplotlib.pyplot as plt \n",
    "import seaborn as sns"
   ]
  },
  {
   "cell_type": "code",
   "execution_count": 32,
   "metadata": {
    "id": "W7GmYIHqmeDq"
   },
   "outputs": [],
   "source": [
    "#df.drop(\"id\", axis=1, inplace=True)"
   ]
  },
  {
   "cell_type": "code",
   "execution_count": 33,
   "metadata": {
    "colab": {
     "base_uri": "https://localhost:8080/",
     "height": 206
    },
    "id": "2d9Gr6Vnm3n7",
    "outputId": "7f370b70-2de8-46d1-95cd-fe51b76ea364"
   },
   "outputs": [
    {
     "data": {
      "text/html": [
       "<div>\n",
       "<style scoped>\n",
       "    .dataframe tbody tr th:only-of-type {\n",
       "        vertical-align: middle;\n",
       "    }\n",
       "\n",
       "    .dataframe tbody tr th {\n",
       "        vertical-align: top;\n",
       "    }\n",
       "\n",
       "    .dataframe thead th {\n",
       "        text-align: right;\n",
       "    }\n",
       "</style>\n",
       "<table border=\"1\" class=\"dataframe\">\n",
       "  <thead>\n",
       "    <tr style=\"text-align: right;\">\n",
       "      <th></th>\n",
       "      <th>hypertension</th>\n",
       "      <th>heart_disease</th>\n",
       "      <th>avg_glucose_level</th>\n",
       "      <th>bmi</th>\n",
       "      <th>stroke</th>\n",
       "      <th>gender</th>\n",
       "      <th>ever_married</th>\n",
       "      <th>work_type</th>\n",
       "      <th>residence_type</th>\n",
       "      <th>smoking_status</th>\n",
       "      <th>age</th>\n",
       "    </tr>\n",
       "  </thead>\n",
       "  <tbody>\n",
       "    <tr>\n",
       "      <th>0</th>\n",
       "      <td>0</td>\n",
       "      <td>1</td>\n",
       "      <td>228.69</td>\n",
       "      <td>36.6</td>\n",
       "      <td>1</td>\n",
       "      <td>0</td>\n",
       "      <td>0</td>\n",
       "      <td>0</td>\n",
       "      <td>0</td>\n",
       "      <td>0</td>\n",
       "      <td>7</td>\n",
       "    </tr>\n",
       "    <tr>\n",
       "      <th>1</th>\n",
       "      <td>0</td>\n",
       "      <td>0</td>\n",
       "      <td>202.21</td>\n",
       "      <td>28.1</td>\n",
       "      <td>1</td>\n",
       "      <td>1</td>\n",
       "      <td>0</td>\n",
       "      <td>1</td>\n",
       "      <td>1</td>\n",
       "      <td>1</td>\n",
       "      <td>6</td>\n",
       "    </tr>\n",
       "    <tr>\n",
       "      <th>2</th>\n",
       "      <td>0</td>\n",
       "      <td>1</td>\n",
       "      <td>105.92</td>\n",
       "      <td>32.5</td>\n",
       "      <td>1</td>\n",
       "      <td>0</td>\n",
       "      <td>0</td>\n",
       "      <td>0</td>\n",
       "      <td>1</td>\n",
       "      <td>1</td>\n",
       "      <td>8</td>\n",
       "    </tr>\n",
       "    <tr>\n",
       "      <th>3</th>\n",
       "      <td>0</td>\n",
       "      <td>0</td>\n",
       "      <td>171.23</td>\n",
       "      <td>34.4</td>\n",
       "      <td>1</td>\n",
       "      <td>1</td>\n",
       "      <td>0</td>\n",
       "      <td>0</td>\n",
       "      <td>0</td>\n",
       "      <td>2</td>\n",
       "      <td>5</td>\n",
       "    </tr>\n",
       "    <tr>\n",
       "      <th>4</th>\n",
       "      <td>1</td>\n",
       "      <td>0</td>\n",
       "      <td>174.12</td>\n",
       "      <td>24.0</td>\n",
       "      <td>1</td>\n",
       "      <td>1</td>\n",
       "      <td>0</td>\n",
       "      <td>1</td>\n",
       "      <td>1</td>\n",
       "      <td>1</td>\n",
       "      <td>8</td>\n",
       "    </tr>\n",
       "  </tbody>\n",
       "</table>\n",
       "</div>"
      ],
      "text/plain": [
       "   hypertension  heart_disease  avg_glucose_level   bmi  stroke  gender  \\\n",
       "0             0              1             228.69  36.6       1       0   \n",
       "1             0              0             202.21  28.1       1       1   \n",
       "2             0              1             105.92  32.5       1       0   \n",
       "3             0              0             171.23  34.4       1       1   \n",
       "4             1              0             174.12  24.0       1       1   \n",
       "\n",
       "   ever_married  work_type  residence_type  smoking_status  age  \n",
       "0             0          0               0               0    7  \n",
       "1             0          1               1               1    6  \n",
       "2             0          0               1               1    8  \n",
       "3             0          0               0               2    5  \n",
       "4             0          1               1               1    8  "
      ]
     },
     "execution_count": 33,
     "metadata": {},
     "output_type": "execute_result"
    }
   ],
   "source": [
    "df.head()"
   ]
  },
  {
   "cell_type": "code",
   "execution_count": 34,
   "metadata": {
    "colab": {
     "base_uri": "https://localhost:8080/",
     "height": 394
    },
    "id": "Mpl6VpdnrdqR",
    "outputId": "f1c921f0-aaa9-40ec-fa12-16e2b6fb41a2"
   },
   "outputs": [
    {
     "data": {
      "text/html": [
       "<div>\n",
       "<style scoped>\n",
       "    .dataframe tbody tr th:only-of-type {\n",
       "        vertical-align: middle;\n",
       "    }\n",
       "\n",
       "    .dataframe tbody tr th {\n",
       "        vertical-align: top;\n",
       "    }\n",
       "\n",
       "    .dataframe thead th {\n",
       "        text-align: right;\n",
       "    }\n",
       "</style>\n",
       "<table border=\"1\" class=\"dataframe\">\n",
       "  <thead>\n",
       "    <tr style=\"text-align: right;\">\n",
       "      <th></th>\n",
       "      <th>hypertension</th>\n",
       "      <th>heart_disease</th>\n",
       "      <th>avg_glucose_level</th>\n",
       "      <th>bmi</th>\n",
       "      <th>stroke</th>\n",
       "      <th>gender</th>\n",
       "      <th>ever_married</th>\n",
       "      <th>work_type</th>\n",
       "      <th>residence_type</th>\n",
       "      <th>smoking_status</th>\n",
       "      <th>age</th>\n",
       "    </tr>\n",
       "  </thead>\n",
       "  <tbody>\n",
       "    <tr>\n",
       "      <th>hypertension</th>\n",
       "      <td>1.000000</td>\n",
       "      <td>0.108306</td>\n",
       "      <td>0.174474</td>\n",
       "      <td>0.158293</td>\n",
       "      <td>0.127904</td>\n",
       "      <td>-0.021390</td>\n",
       "      <td>-0.164243</td>\n",
       "      <td>-0.075097</td>\n",
       "      <td>0.007913</td>\n",
       "      <td>-0.129012</td>\n",
       "      <td>0.272056</td>\n",
       "    </tr>\n",
       "    <tr>\n",
       "      <th>heart_disease</th>\n",
       "      <td>0.108306</td>\n",
       "      <td>1.000000</td>\n",
       "      <td>0.161857</td>\n",
       "      <td>0.036916</td>\n",
       "      <td>0.134914</td>\n",
       "      <td>-0.085749</td>\n",
       "      <td>-0.114644</td>\n",
       "      <td>-0.058263</td>\n",
       "      <td>-0.003092</td>\n",
       "      <td>-0.064671</td>\n",
       "      <td>0.262208</td>\n",
       "    </tr>\n",
       "    <tr>\n",
       "      <th>avg_glucose_level</th>\n",
       "      <td>0.174474</td>\n",
       "      <td>0.161857</td>\n",
       "      <td>1.000000</td>\n",
       "      <td>0.166876</td>\n",
       "      <td>0.131945</td>\n",
       "      <td>-0.054213</td>\n",
       "      <td>-0.155068</td>\n",
       "      <td>-0.068135</td>\n",
       "      <td>0.004946</td>\n",
       "      <td>-0.097732</td>\n",
       "      <td>0.239666</td>\n",
       "    </tr>\n",
       "    <tr>\n",
       "      <th>bmi</th>\n",
       "      <td>0.158293</td>\n",
       "      <td>0.036916</td>\n",
       "      <td>0.166876</td>\n",
       "      <td>1.000000</td>\n",
       "      <td>0.036110</td>\n",
       "      <td>0.025958</td>\n",
       "      <td>-0.334911</td>\n",
       "      <td>-0.341500</td>\n",
       "      <td>0.000277</td>\n",
       "      <td>-0.230661</td>\n",
       "      <td>0.302428</td>\n",
       "    </tr>\n",
       "    <tr>\n",
       "      <th>stroke</th>\n",
       "      <td>0.127904</td>\n",
       "      <td>0.134914</td>\n",
       "      <td>0.131945</td>\n",
       "      <td>0.036110</td>\n",
       "      <td>1.000000</td>\n",
       "      <td>-0.009200</td>\n",
       "      <td>-0.108340</td>\n",
       "      <td>-0.058224</td>\n",
       "      <td>-0.015458</td>\n",
       "      <td>-0.066393</td>\n",
       "      <td>0.246696</td>\n",
       "    </tr>\n",
       "    <tr>\n",
       "      <th>gender</th>\n",
       "      <td>-0.021390</td>\n",
       "      <td>-0.085749</td>\n",
       "      <td>-0.054213</td>\n",
       "      <td>0.025958</td>\n",
       "      <td>-0.009200</td>\n",
       "      <td>1.000000</td>\n",
       "      <td>-0.029366</td>\n",
       "      <td>-0.066212</td>\n",
       "      <td>-0.005529</td>\n",
       "      <td>-0.039693</td>\n",
       "      <td>0.024849</td>\n",
       "    </tr>\n",
       "    <tr>\n",
       "      <th>ever_married</th>\n",
       "      <td>-0.164243</td>\n",
       "      <td>-0.114644</td>\n",
       "      <td>-0.155068</td>\n",
       "      <td>-0.334911</td>\n",
       "      <td>-0.108340</td>\n",
       "      <td>-0.029366</td>\n",
       "      <td>1.000000</td>\n",
       "      <td>0.375944</td>\n",
       "      <td>0.006261</td>\n",
       "      <td>0.303694</td>\n",
       "      <td>-0.675972</td>\n",
       "    </tr>\n",
       "    <tr>\n",
       "      <th>work_type</th>\n",
       "      <td>-0.075097</td>\n",
       "      <td>-0.058263</td>\n",
       "      <td>-0.068135</td>\n",
       "      <td>-0.341500</td>\n",
       "      <td>-0.058224</td>\n",
       "      <td>-0.066212</td>\n",
       "      <td>0.375944</td>\n",
       "      <td>1.000000</td>\n",
       "      <td>-0.014573</td>\n",
       "      <td>0.307774</td>\n",
       "      <td>-0.382695</td>\n",
       "    </tr>\n",
       "    <tr>\n",
       "      <th>residence_type</th>\n",
       "      <td>0.007913</td>\n",
       "      <td>-0.003092</td>\n",
       "      <td>0.004946</td>\n",
       "      <td>0.000277</td>\n",
       "      <td>-0.015458</td>\n",
       "      <td>-0.005529</td>\n",
       "      <td>0.006261</td>\n",
       "      <td>-0.014573</td>\n",
       "      <td>1.000000</td>\n",
       "      <td>-0.004656</td>\n",
       "      <td>-0.016781</td>\n",
       "    </tr>\n",
       "    <tr>\n",
       "      <th>smoking_status</th>\n",
       "      <td>-0.129012</td>\n",
       "      <td>-0.064671</td>\n",
       "      <td>-0.097732</td>\n",
       "      <td>-0.230661</td>\n",
       "      <td>-0.066393</td>\n",
       "      <td>-0.039693</td>\n",
       "      <td>0.303694</td>\n",
       "      <td>0.307774</td>\n",
       "      <td>-0.004656</td>\n",
       "      <td>1.000000</td>\n",
       "      <td>-0.352540</td>\n",
       "    </tr>\n",
       "    <tr>\n",
       "      <th>age</th>\n",
       "      <td>0.272056</td>\n",
       "      <td>0.262208</td>\n",
       "      <td>0.239666</td>\n",
       "      <td>0.302428</td>\n",
       "      <td>0.246696</td>\n",
       "      <td>0.024849</td>\n",
       "      <td>-0.675972</td>\n",
       "      <td>-0.382695</td>\n",
       "      <td>-0.016781</td>\n",
       "      <td>-0.352540</td>\n",
       "      <td>1.000000</td>\n",
       "    </tr>\n",
       "  </tbody>\n",
       "</table>\n",
       "</div>"
      ],
      "text/plain": [
       "                   hypertension  heart_disease  avg_glucose_level       bmi  \\\n",
       "hypertension           1.000000       0.108306           0.174474  0.158293   \n",
       "heart_disease          0.108306       1.000000           0.161857  0.036916   \n",
       "avg_glucose_level      0.174474       0.161857           1.000000  0.166876   \n",
       "bmi                    0.158293       0.036916           0.166876  1.000000   \n",
       "stroke                 0.127904       0.134914           0.131945  0.036110   \n",
       "gender                -0.021390      -0.085749          -0.054213  0.025958   \n",
       "ever_married          -0.164243      -0.114644          -0.155068 -0.334911   \n",
       "work_type             -0.075097      -0.058263          -0.068135 -0.341500   \n",
       "residence_type         0.007913      -0.003092           0.004946  0.000277   \n",
       "smoking_status        -0.129012      -0.064671          -0.097732 -0.230661   \n",
       "age                    0.272056       0.262208           0.239666  0.302428   \n",
       "\n",
       "                     stroke    gender  ever_married  work_type  \\\n",
       "hypertension       0.127904 -0.021390     -0.164243  -0.075097   \n",
       "heart_disease      0.134914 -0.085749     -0.114644  -0.058263   \n",
       "avg_glucose_level  0.131945 -0.054213     -0.155068  -0.068135   \n",
       "bmi                0.036110  0.025958     -0.334911  -0.341500   \n",
       "stroke             1.000000 -0.009200     -0.108340  -0.058224   \n",
       "gender            -0.009200  1.000000     -0.029366  -0.066212   \n",
       "ever_married      -0.108340 -0.029366      1.000000   0.375944   \n",
       "work_type         -0.058224 -0.066212      0.375944   1.000000   \n",
       "residence_type    -0.015458 -0.005529      0.006261  -0.014573   \n",
       "smoking_status    -0.066393 -0.039693      0.303694   0.307774   \n",
       "age                0.246696  0.024849     -0.675972  -0.382695   \n",
       "\n",
       "                   residence_type  smoking_status       age  \n",
       "hypertension             0.007913       -0.129012  0.272056  \n",
       "heart_disease           -0.003092       -0.064671  0.262208  \n",
       "avg_glucose_level        0.004946       -0.097732  0.239666  \n",
       "bmi                      0.000277       -0.230661  0.302428  \n",
       "stroke                  -0.015458       -0.066393  0.246696  \n",
       "gender                  -0.005529       -0.039693  0.024849  \n",
       "ever_married             0.006261        0.303694 -0.675972  \n",
       "work_type               -0.014573        0.307774 -0.382695  \n",
       "residence_type           1.000000       -0.004656 -0.016781  \n",
       "smoking_status          -0.004656        1.000000 -0.352540  \n",
       "age                     -0.016781       -0.352540  1.000000  "
      ]
     },
     "execution_count": 34,
     "metadata": {},
     "output_type": "execute_result"
    }
   ],
   "source": [
    "df.corr()"
   ]
  },
  {
   "cell_type": "code",
   "execution_count": 35,
   "metadata": {
    "colab": {
     "base_uri": "https://localhost:8080/",
     "height": 563
    },
    "id": "Etrr8slzUM67",
    "outputId": "1aee2d7d-dd8d-4b27-9985-972e12f10aed"
   },
   "outputs": [
    {
     "data": {
      "text/plain": [
       "<AxesSubplot:title={'center':'Correlação entre os atributos'}>"
      ]
     },
     "execution_count": 35,
     "metadata": {},
     "output_type": "execute_result"
    },
    {
     "data": {
      "image/png": "[encoded data removed]",
      "text/plain": [
       "<Figure size 864x504 with 2 Axes>"
      ]
     },
     "metadata": {
      "needs_background": "light"
     },
     "output_type": "display_data"
    }
   ],
   "source": [
    "plt.figure(figsize=(12,7))\n",
    "plt.title('Correlação entre os atributos', y=1.05, size=15)\n",
    "sns.heatmap(df.astype(float).corr(), annot=True,cmap='YlGnBu')"
   ]
  },
  {
   "cell_type": "code",
   "execution_count": 36,
   "metadata": {
    "colab": {
     "base_uri": "https://localhost:8080/"
    },
    "id": "lQ4nOeSWrdqS",
    "outputId": "79973d7d-d146-435d-97ff-33a2117488ab"
   },
   "outputs": [
    {
     "name": "stdout",
     "output_type": "stream",
     "text": [
      "              feature        VIF\n",
      "0                 age   8.191334\n",
      "1              gender   2.356298\n",
      "2        hypertension   1.214736\n",
      "3       heart_disease   1.166515\n",
      "4        ever_married   2.340551\n",
      "5           work_type   1.912006\n",
      "6      residence_type   1.918026\n",
      "7   avg_glucose_level   6.749972\n",
      "8                 bmi  10.822353\n",
      "9      smoking_status   3.306998\n",
      "10             stroke   1.137361\n"
     ]
    }
   ],
   "source": [
    "# Detecting Multicollinearity with VIF – Python\n",
    "\n",
    "from statsmodels.stats.outliers_influence import variance_inflation_factor\n",
    "  \n",
    "# the independent variables set\n",
    "X = df[['age','gender', 'hypertension', 'heart_disease', 'ever_married', 'work_type', 'residence_type', 'avg_glucose_level', 'bmi', 'smoking_status', 'stroke']]\n",
    "\n",
    "# VIF dataframe\n",
    "vif_data = pd.DataFrame()\n",
    "vif_data[\"feature\"] = X.columns\n",
    "  \n",
    "# calculating VIF for each feature\n",
    "vif_data[\"VIF\"] = [variance_inflation_factor(X.values, i)\n",
    "                          for i in range(len(X.columns))]\n",
    "  \n",
    "print(vif_data)"
   ]
  },
  {
   "cell_type": "markdown",
   "metadata": {
    "id": "DkBJQ9WVrdqV"
   },
   "source": [
    "# VISUALIZAÇÃO DOS DADOS"
   ]
  },
  {
   "cell_type": "code",
   "execution_count": 37,
   "metadata": {
    "colab": {
     "base_uri": "https://localhost:8080/"
    },
    "id": "HZH2lRCLrdqZ",
    "outputId": "6a340681-28c2-46e1-9c6d-baf88436c482"
   },
   "outputs": [
    {
     "data": {
      "text/plain": [
       "0    4861\n",
       "1     249\n",
       "Name: stroke, dtype: int64"
      ]
     },
     "execution_count": 37,
     "metadata": {},
     "output_type": "execute_result"
    }
   ],
   "source": [
    "df['stroke'].value_counts()"
   ]
  },
  {
   "cell_type": "code",
   "execution_count": 38,
   "metadata": {
    "colab": {
     "base_uri": "https://localhost:8080/"
    },
    "id": "1AWyRA2_Upk7",
    "outputId": "761eca1b-0467-4ed4-c205-9d51e78e7af2"
   },
   "outputs": [
    {
     "data": {
      "text/plain": [
       "1    2994\n",
       "0    2115\n",
       "2       1\n",
       "Name: gender, dtype: int64"
      ]
     },
     "execution_count": 38,
     "metadata": {},
     "output_type": "execute_result"
    }
   ],
   "source": [
    "df['gender'].value_counts()"
   ]
  },
  {
   "cell_type": "code",
   "execution_count": 39,
   "metadata": {
    "colab": {
     "base_uri": "https://localhost:8080/"
    },
    "id": "-racm5JlU4TM",
    "outputId": "650f4ece-bd85-4c20-f5be-92d75d947ab8"
   },
   "outputs": [
    {
     "data": {
      "text/plain": [
       "0    4612\n",
       "1     498\n",
       "Name: hypertension, dtype: int64"
      ]
     },
     "execution_count": 39,
     "metadata": {},
     "output_type": "execute_result"
    }
   ],
   "source": [
    "df['hypertension'].value_counts()"
   ]
  },
  {
   "cell_type": "code",
   "execution_count": 40,
   "metadata": {
    "colab": {
     "base_uri": "https://localhost:8080/"
    },
    "id": "KRSbTO0DU-Kf",
    "outputId": "66c036d8-1bcf-43a4-be97-48d1195b34bc"
   },
   "outputs": [
    {
     "data": {
      "text/plain": [
       "0    3353\n",
       "1    1757\n",
       "Name: ever_married, dtype: int64"
      ]
     },
     "execution_count": 40,
     "metadata": {},
     "output_type": "execute_result"
    }
   ],
   "source": [
    "df['ever_married'].value_counts()"
   ]
  },
  {
   "cell_type": "code",
   "execution_count": 41,
   "metadata": {
    "colab": {
     "base_uri": "https://localhost:8080/"
    },
    "id": "oGkKd-q6VDTV",
    "outputId": "c870db52-dcee-4464-b916-0f5f80bf52d7"
   },
   "outputs": [
    {
     "data": {
      "text/plain": [
       "0    2925\n",
       "1     819\n",
       "3     687\n",
       "2     657\n",
       "4      22\n",
       "Name: work_type, dtype: int64"
      ]
     },
     "execution_count": 41,
     "metadata": {},
     "output_type": "execute_result"
    }
   ],
   "source": [
    "df['work_type'].value_counts()"
   ]
  },
  {
   "cell_type": "code",
   "execution_count": 42,
   "metadata": {
    "colab": {
     "base_uri": "https://localhost:8080/"
    },
    "id": "czEOaTrPVM5b",
    "outputId": "89d68074-0f4d-4085-e96a-f5e3ad14efa0"
   },
   "outputs": [
    {
     "data": {
      "text/plain": [
       "0    2596\n",
       "1    2514\n",
       "Name: residence_type, dtype: int64"
      ]
     },
     "execution_count": 42,
     "metadata": {},
     "output_type": "execute_result"
    }
   ],
   "source": [
    "df['residence_type'].value_counts()"
   ]
  },
  {
   "cell_type": "code",
   "execution_count": 43,
   "metadata": {
    "colab": {
     "base_uri": "https://localhost:8080/"
    },
    "id": "QBKfX_2GVREe",
    "outputId": "032a6dff-d5d9-41af-b767-69060d558c69"
   },
   "outputs": [
    {
     "data": {
      "text/plain": [
       "1    1892\n",
       "3    1544\n",
       "0     885\n",
       "2     789\n",
       "Name: smoking_status, dtype: int64"
      ]
     },
     "execution_count": 43,
     "metadata": {},
     "output_type": "execute_result"
    }
   ],
   "source": [
    "df['smoking_status'].value_counts()"
   ]
  },
  {
   "cell_type": "code",
   "execution_count": 44,
   "metadata": {
    "colab": {
     "base_uri": "https://localhost:8080/"
    },
    "id": "NgpRgSxll3F-",
    "outputId": "47a0208c-7df5-47a9-87e2-36913c93eb74"
   },
   "outputs": [
    {
     "data": {
      "text/plain": [
       "0    4834\n",
       "1     276\n",
       "Name: heart_disease, dtype: int64"
      ]
     },
     "execution_count": 44,
     "metadata": {},
     "output_type": "execute_result"
    }
   ],
   "source": [
    "df['heart_disease'].value_counts()"
   ]
  },
  {
   "cell_type": "code",
   "execution_count": 45,
   "metadata": {
    "id": "OmfD5hq4rdqa"
   },
   "outputs": [],
   "source": [
    "import matplotlib.pyplot as plt\n",
    "plt.style.use('ggplot')\n",
    "import seaborn as sns"
   ]
  },
  {
   "cell_type": "code",
   "execution_count": 46,
   "metadata": {
    "colab": {
     "base_uri": "https://localhost:8080/",
     "height": 428
    },
    "id": "4k3HhGuerdqa",
    "outputId": "6c1c18d2-b71e-4eb7-98c8-65988f3638d4"
   },
   "outputs": [
    {
     "data": {
      "image/png": "[encoded data removed]",
      "text/plain": [
       "<Figure size 504x504 with 1 Axes>"
      ]
     },
     "metadata": {},
     "output_type": "display_data"
    }
   ],
   "source": [
    "#Balanceamento de dados \n",
    "\n",
    "labels =df['stroke'].value_counts(sort = True).index\n",
    "sizes = df['stroke'].value_counts(sort = True)\n",
    "\n",
    "colors = [\"lightblue\",\"red\"]\n",
    "explode = (0.05,0) \n",
    " \n",
    "plt.figure(figsize=(7,7))\n",
    "plt.pie(sizes, explode=explode, labels=labels, colors=colors, autopct='%1.1f%%', shadow=True, startangle=90,)\n",
    "\n",
    "plt.title('Casos de AVC antes do balanceamento')\n",
    "plt.show()"
   ]
  },
  {
   "cell_type": "code",
   "execution_count": 47,
   "metadata": {
    "colab": {
     "base_uri": "https://localhost:8080/",
     "height": 337
    },
    "id": "8Qh5d_uOrdqf",
    "outputId": "ca83c8fc-5abf-4c1d-99d7-ac19117cbc9c"
   },
   "outputs": [
    {
     "data": {
      "image/png": "[encoded data removed]",
      "text/plain": [
       "<Figure size 720x360 with 1 Axes>"
      ]
     },
     "metadata": {},
     "output_type": "display_data"
    }
   ],
   "source": [
    "plt.figure(figsize=(10,5))\n",
    "sns.countplot(data=df,x='gender');"
   ]
  },
  {
   "cell_type": "code",
   "execution_count": 48,
   "metadata": {
    "colab": {
     "base_uri": "https://localhost:8080/",
     "height": 354
    },
    "id": "twpvs5tBrdqg",
    "outputId": "06e24534-c67a-4f48-f8a2-bb63aa98b86b",
    "scrolled": true
   },
   "outputs": [
    {
     "data": {
      "image/png": "[encoded data removed]",
      "text/plain": [
       "<Figure size 1080x360 with 2 Axes>"
      ]
     },
     "metadata": {},
     "output_type": "display_data"
    }
   ],
   "source": [
    "fig, axes = plt.subplots(nrows=1, ncols=2, figsize=(15, 5))\n",
    "df.plot(kind='scatter', x='age', y='avg_glucose_level', alpha=0.5, color='blue', ax=axes[0], title=\"Idade vs. Nível de glicose\")\n",
    "df.plot(kind='scatter', x='bmi', y='avg_glucose_level', alpha=0.5, color='red', ax=axes[1], title=\"BMI vs. Nível de glicose\")\n",
    "plt.show()"
   ]
  },
  {
   "cell_type": "code",
   "execution_count": 49,
   "metadata": {
    "colab": {
     "base_uri": "https://localhost:8080/",
     "height": 337
    },
    "id": "a6s0MWK_rdqh",
    "outputId": "4423b650-158d-4e8f-9722-43a955be52f7",
    "scrolled": true
   },
   "outputs": [
    {
     "data": {
      "image/png": "[encoded data removed]",
      "text/plain": [
       "<Figure size 720x360 with 1 Axes>"
      ]
     },
     "metadata": {},
     "output_type": "display_data"
    }
   ],
   "source": [
    "strok=df.loc[df['stroke']==1]\n",
    "plt.figure(figsize=(10,5))\n",
    "sns.countplot(data=strok,x='heart_disease',palette='Reds');"
   ]
  },
  {
   "cell_type": "code",
   "execution_count": 50,
   "metadata": {
    "colab": {
     "base_uri": "https://localhost:8080/",
     "height": 337
    },
    "id": "ES7fOiebrdqi",
    "outputId": "1f30d40d-5f21-4abf-9939-f13b1de2b3aa",
    "scrolled": true
   },
   "outputs": [
    {
     "data": {
      "image/png": "[encoded data removed]",
      "text/plain": [
       "<Figure size 720x360 with 1 Axes>"
      ]
     },
     "metadata": {},
     "output_type": "display_data"
    }
   ],
   "source": [
    "plt.figure(figsize=(10,5))\n",
    "sns.countplot(data=strok,x='hypertension',palette='Blues');"
   ]
  },
  {
   "cell_type": "code",
   "execution_count": 51,
   "metadata": {
    "colab": {
     "base_uri": "https://localhost:8080/",
     "height": 337
    },
    "id": "yXs_QPOFrdqj",
    "outputId": "8f7f11b8-7ef6-48a6-9fae-004170e52848"
   },
   "outputs": [
    {
     "data": {
      "image/png": "[encoded data removed]",
      "text/plain": [
       "<Figure size 720x360 with 1 Axes>"
      ]
     },
     "metadata": {},
     "output_type": "display_data"
    }
   ],
   "source": [
    "plt.figure(figsize=(10,5))\n",
    "sns.countplot(data=strok,x='smoking_status',palette='Purples');"
   ]
  },
  {
   "cell_type": "code",
   "execution_count": 52,
   "metadata": {
    "colab": {
     "base_uri": "https://localhost:8080/",
     "height": 698
    },
    "id": "i793FNhSVai1",
    "outputId": "9d8c3285-d01c-466c-d8e5-9f90b45ed174"
   },
   "outputs": [
    {
     "name": "stderr",
     "output_type": "stream",
     "text": [
      "/home/gabriela/.local/lib/python3.8/site-packages/seaborn/distributions.py:2619: FutureWarning: `distplot` is a deprecated function and will be removed in a future version. Please adapt your code to use either `displot` (a figure-level function with similar flexibility) or `histplot` (an axes-level function for histograms).\n",
      "  warnings.warn(msg, FutureWarning)\n",
      "/home/gabriela/.local/lib/python3.8/site-packages/seaborn/distributions.py:2619: FutureWarning: `distplot` is a deprecated function and will be removed in a future version. Please adapt your code to use either `displot` (a figure-level function with similar flexibility) or `histplot` (an axes-level function for histograms).\n",
      "  warnings.warn(msg, FutureWarning)\n"
     ]
    },
    {
     "data": {
      "image/png": "[encoded data removed]",
      "text/plain": [
       "<Figure size 864x720 with 1 Axes>"
      ]
     },
     "metadata": {},
     "output_type": "display_data"
    }
   ],
   "source": [
    "plt.figure(figsize=(12,10))\n",
    "\n",
    "sns.distplot(df[df['stroke'] == 0][\"bmi\"], color='blue') # No Stroke \n",
    "sns.distplot(df[df['stroke'] == 1][\"bmi\"], color='red') # Stroke\n",
    "\n",
    "#plt.title('Sem AVC vs Com AVC por IMC', fontsize=15)\n",
    "plt.xlim([10,100])\n",
    "plt.show()"
   ]
  },
  {
   "cell_type": "code",
   "execution_count": 53,
   "metadata": {
    "colab": {
     "base_uri": "https://localhost:8080/",
     "height": 701
    },
    "id": "FieJbZqtV6my",
    "outputId": "91132ce2-55ec-42f3-b941-32edf3772af6"
   },
   "outputs": [
    {
     "name": "stderr",
     "output_type": "stream",
     "text": [
      "/home/gabriela/.local/lib/python3.8/site-packages/seaborn/distributions.py:2619: FutureWarning: `distplot` is a deprecated function and will be removed in a future version. Please adapt your code to use either `displot` (a figure-level function with similar flexibility) or `histplot` (an axes-level function for histograms).\n",
      "  warnings.warn(msg, FutureWarning)\n",
      "/home/gabriela/.local/lib/python3.8/site-packages/seaborn/distributions.py:2619: FutureWarning: `distplot` is a deprecated function and will be removed in a future version. Please adapt your code to use either `displot` (a figure-level function with similar flexibility) or `histplot` (an axes-level function for histograms).\n",
      "  warnings.warn(msg, FutureWarning)\n"
     ]
    },
    {
     "data": {
      "image/png": "[encoded data removed]",
      "text/plain": [
       "<Figure size 864x720 with 1 Axes>"
      ]
     },
     "metadata": {},
     "output_type": "display_data"
    }
   ],
   "source": [
    "plt.figure(figsize=(12,10))\n",
    "\n",
    "sns.distplot(df[df['stroke'] == 0][\"avg_glucose_level\"], color='blue') # No Stroke\n",
    "sns.distplot(df[df['stroke'] == 1][\"avg_glucose_level\"], color='red') # Stroke \n",
    "\n",
    "#plt.title('Sem AVC vs Com AVC por Glicemia', fontsize=15)\n",
    "plt.xlim([30,330])\n",
    "plt.show()"
   ]
  },
  {
   "cell_type": "code",
   "execution_count": 54,
   "metadata": {
    "colab": {
     "base_uri": "https://localhost:8080/",
     "height": 698
    },
    "id": "oYv2VqBTWwlb",
    "outputId": "1c725626-97d7-4e33-af47-372152662440"
   },
   "outputs": [
    {
     "name": "stderr",
     "output_type": "stream",
     "text": [
      "/home/gabriela/.local/lib/python3.8/site-packages/seaborn/distributions.py:2619: FutureWarning: `distplot` is a deprecated function and will be removed in a future version. Please adapt your code to use either `displot` (a figure-level function with similar flexibility) or `histplot` (an axes-level function for histograms).\n",
      "  warnings.warn(msg, FutureWarning)\n",
      "/home/gabriela/.local/lib/python3.8/site-packages/seaborn/distributions.py:2619: FutureWarning: `distplot` is a deprecated function and will be removed in a future version. Please adapt your code to use either `displot` (a figure-level function with similar flexibility) or `histplot` (an axes-level function for histograms).\n",
      "  warnings.warn(msg, FutureWarning)\n"
     ]
    },
    {
     "data": {
      "image/png": "[encoded data removed]",
      "text/plain": [
       "<Figure size 864x720 with 1 Axes>"
      ]
     },
     "metadata": {},
     "output_type": "display_data"
    }
   ],
   "source": [
    "plt.figure(figsize=(12,10))\n",
    "\n",
    "sns.distplot(df[df['stroke'] == 0][\"age\"], color='blue') # No Stroke\n",
    "sns.distplot(df[df['stroke'] == 1][\"age\"], color='red') # Stroke\n",
    "\n",
    "#plt.title('Sem AVC vs Com AVC por Idade', fontsize=15)\n",
    "plt.xlim([18,100])\n",
    "plt.show()"
   ]
  },
  {
   "cell_type": "markdown",
   "metadata": {
    "id": "c0g3Bqwzrdqk"
   },
   "source": [
    "# TESTANDO OS MODELOS"
   ]
  },
  {
   "cell_type": "markdown",
   "metadata": {
    "id": "cLGfPrREnMh9"
   },
   "source": [
    "# BALANCEAMENTO\n"
   ]
  },
  {
   "cell_type": "code",
   "execution_count": 55,
   "metadata": {
    "id": "5SXSXngvSwpf"
   },
   "outputs": [],
   "source": [
    "features = ['hypertension', 'heart_disease', 'avg_glucose_level', 'bmi', 'gender',\n",
    "       'ever_married', 'work_type', 'residence_type', 'smoking_status', 'age']"
   ]
  },
  {
   "cell_type": "code",
   "execution_count": 56,
   "metadata": {
    "colab": {
     "base_uri": "https://localhost:8080/"
    },
    "id": "59MX-Cbdnhvd",
    "outputId": "67c90cd9-33fe-4615-b6b1-7d6e78943738"
   },
   "outputs": [
    {
     "name": "stdout",
     "output_type": "stream",
     "text": [
      "Antes do OverSampling, qtd de stroke '1': 249\n",
      "Antes do OverSampling, qtd de não stroke '0': 4861 \n",
      "\n",
      "Depois do OverSampling, shape do train_X: (6816, 10)\n",
      "Depois do OverSampling, shape do train_y: (6816,) \n",
      "\n",
      "Depois do OverSampling, qtd de stroke '1': 3408\n",
      "Depois do OverSampling, qtd de não stroke '0': 3408\n"
     ]
    }
   ],
   "source": [
    "from sklearn.model_selection import train_test_split\n",
    "from imblearn.over_sampling import SMOTE\n",
    "\n",
    "X , y = df[features],df[\"stroke\"]\n",
    "\n",
    "x_train,x_test,y_train,y_test = train_test_split(X,y,test_size=0.3,random_state=23)\n",
    "\n",
    "sm = SMOTE()\n",
    "\n",
    "X_res, y_res = sm.fit_resample(x_train,y_train)\n",
    "\n",
    "print(\"Antes do OverSampling, qtd de stroke '1': {}\".format(sum(y==1)))\n",
    "print(\"Antes do OverSampling, qtd de não stroke '0': {} \\n\".format(sum(y==0)))\n",
    "\n",
    "print('Depois do OverSampling, shape do train_X: {}'.format(X_res.shape))\n",
    "print('Depois do OverSampling, shape do train_y: {} \\n'.format(y_res.shape))\n",
    "\n",
    "print(\"Depois do OverSampling, qtd de stroke '1': {}\".format(sum(y_res==1)))\n",
    "print(\"Depois do OverSampling, qtd de não stroke '0': {}\".format(sum(y_res==0)))"
   ]
  },
  {
   "cell_type": "code",
   "execution_count": 57,
   "metadata": {
    "colab": {
     "base_uri": "https://localhost:8080/"
    },
    "id": "idQQLKO5pgwQ",
    "outputId": "371cc079-e266-4af6-fa9f-ad9193ac25cb"
   },
   "outputs": [
    {
     "data": {
      "text/plain": [
       "{0: 3408, 1: 3408}"
      ]
     },
     "execution_count": 57,
     "metadata": {},
     "output_type": "execute_result"
    }
   ],
   "source": [
    "a = y_res\n",
    "unique, counts = np.unique(a, return_counts=True)\n",
    "ab = dict(zip(unique, counts))\n",
    "ab"
   ]
  },
  {
   "cell_type": "code",
   "execution_count": 58,
   "metadata": {
    "colab": {
     "base_uri": "https://localhost:8080/",
     "height": 428
    },
    "id": "QF-PcNNxvUib",
    "outputId": "9e85b62d-0d1a-4265-e963-6ffa24ad13b2"
   },
   "outputs": [
    {
     "data": {
      "image/png": "[encoded data removed]",
      "text/plain": [
       "<Figure size 504x504 with 1 Axes>"
      ]
     },
     "metadata": {},
     "output_type": "display_data"
    }
   ],
   "source": [
    "import matplotlib.pyplot as plt\n",
    "\n",
    "# Data to plot\n",
    "labels = []\n",
    "sizes = []\n",
    "\n",
    "for x, y in ab.items():\n",
    "    labels.append(x)\n",
    "    sizes.append(y)\n",
    "\n",
    "# Plot\n",
    "colors = [\"lightblue\",\"red\"]\n",
    "explode = (0.05,0) \n",
    " \n",
    "plt.figure(figsize=(7,7))\n",
    "plt.pie(sizes, explode=explode, labels=labels, colors=colors, autopct='%1.1f%%', shadow=True, startangle=90,)\n",
    "\n",
    "plt.title('Casos de AVC depois do balanceamento com SMOTE')\n",
    "plt.show()"
   ]
  },
  {
   "cell_type": "markdown",
   "metadata": {
    "id": "gOKY5W4e20hH"
   },
   "source": [
    "# MODELAGEM E TREINAMENTO"
   ]
  },
  {
   "cell_type": "code",
   "execution_count": 59,
   "metadata": {
    "id": "jO0bkXYO3VlY"
   },
   "outputs": [],
   "source": [
    "#y = df['stroke']\n",
    "#df.drop(columns=['stroke'],inplace=True)\n",
    "#x = df"
   ]
  },
  {
   "cell_type": "code",
   "execution_count": 60,
   "metadata": {
    "id": "nGMfP6-323ZP"
   },
   "outputs": [],
   "source": [
    "#from sklearn.model_selection import train_test_split\n",
    "#X_train, X_test, Y_train, Y_test = train_test_split(x,y,test_size=0.20,random_state=0)"
   ]
  },
  {
   "cell_type": "code",
   "execution_count": 61,
   "metadata": {
    "id": "LJx8RMoo41So"
   },
   "outputs": [],
   "source": [
    "x_train = X_res\n",
    "y_train = y_res"
   ]
  },
  {
   "cell_type": "code",
   "execution_count": 62,
   "metadata": {
    "colab": {
     "base_uri": "https://localhost:8080/"
    },
    "id": "C6zy8ODE4BN9",
    "outputId": "29dd575d-8ee2-4d59-efa8-033e5b055368"
   },
   "outputs": [
    {
     "name": "stdout",
     "output_type": "stream",
     "text": [
      "(6816, 10)\n",
      "(1533, 10)\n",
      "(6816,)\n",
      "(1533,)\n"
     ]
    }
   ],
   "source": [
    "print(x_train.shape)\n",
    "print(x_test.shape)\n",
    "print(y_train.shape)\n",
    "print(y_test.shape)"
   ]
  },
  {
   "cell_type": "code",
   "execution_count": 63,
   "metadata": {
    "id": "nBDbS7IiA9b8"
   },
   "outputs": [],
   "source": [
    "from sklearn.ensemble import AdaBoostClassifier\n",
    "from sklearn.ensemble import RandomForestClassifier\n",
    "from sklearn.ensemble import GradientBoostingClassifier\n",
    "from sklearn.ensemble import ExtraTreesClassifier\n",
    "from sklearn.svm import SVC\n",
    "from sklearn.naive_bayes import GaussianNB\n",
    "from sklearn.model_selection import KFold\n",
    "from sklearn.model_selection import cross_val_score\n",
    "from sklearn.model_selection import cross_val_predict\n",
    "import xgboost as xgb"
   ]
  },
  {
   "cell_type": "code",
   "execution_count": 64,
   "metadata": {
    "id": "rsFvECxD_oP_"
   },
   "outputs": [],
   "source": [
    "class ClassifierModel(object):\n",
    "    def __init__(self, clf, params=None):\n",
    "        self.clf = clf(**params)\n",
    "\n",
    "    def train(self, x_train, y_train):\n",
    "        self.clf.fit(x_train, y_train)\n",
    "    \n",
    "    def fit(self,x,y):\n",
    "        return self.clf.fit(x,y)\n",
    "    \n",
    "    def feature_importances(self,x,y):\n",
    "        return self.clf.fit(x,y).feature_importances_\n",
    "    \n",
    "    def predict(self, x):\n",
    "        return self.clf.predict(x)"
   ]
  },
  {
   "cell_type": "code",
   "execution_count": 65,
   "metadata": {
    "id": "BpN9g5Xp1jCa"
   },
   "outputs": [],
   "source": [
    "from sklearn.model_selection import cross_validate"
   ]
  },
  {
   "cell_type": "code",
   "execution_count": 66,
   "metadata": {
    "id": "JFN1jERvBmeP"
   },
   "outputs": [],
   "source": [
    "def trainModel(model, x_train, y_train, x_test, n_folds):\n",
    "    cv = KFold(n_splits= n_folds, random_state=0, shuffle=True)\n",
    "    scoring = ['precision_macro', 'recall_macro']\n",
    "    metrics = cross_validate(model.clf, x_train, y_train, cv=cv, scoring=scoring)\n",
    "    cv_scores = cross_val_score(model.clf, x_train, y_train, scoring='accuracy', cv=cv, n_jobs=-1)\n",
    "    y_pred = cross_val_predict(model.clf, x_train, y_train, cv=cv, n_jobs=-1)\n",
    "    return cv_scores, y_pred, metrics"
   ]
  },
  {
   "cell_type": "code",
   "execution_count": 67,
   "metadata": {
    "colab": {
     "base_uri": "https://localhost:8080/"
    },
    "id": "wLs1qOx3Akkz",
    "outputId": "71081706-b94b-4be9-9bcc-cfbd6a35fd61"
   },
   "outputs": [
    {
     "data": {
      "text/plain": [
       "array([0.82331378, 0.84152605, 0.82905356, 0.82245048, 0.83198826])"
      ]
     },
     "execution_count": 67,
     "metadata": {},
     "output_type": "execute_result"
    }
   ],
   "source": [
    "# Random Forest parameters\n",
    "rf_params = {\n",
    "    'n_estimators': 400,\n",
    "    'max_depth': 5,\n",
    "    'min_samples_leaf': 3,\n",
    "    'max_features' : 'sqrt',\n",
    "}\n",
    "rfc_model = ClassifierModel(clf=RandomForestClassifier, params=rf_params)\n",
    "rfc_scores, rfc_train_pred, rfc_metrics = trainModel(rfc_model,x_train, y_train, x_test, 5) # Random Forest\n",
    "rfc_scores"
   ]
  },
  {
   "cell_type": "code",
   "execution_count": 68,
   "metadata": {
    "colab": {
     "base_uri": "https://localhost:8080/"
    },
    "id": "HoBwoHCVyRKZ",
    "outputId": "482c27c4-302d-49d1-fb22-c29887f65614"
   },
   "outputs": [
    {
     "data": {
      "text/plain": [
       "{'fit_time': array([0.84403706, 0.82953501, 0.81911421, 0.8320868 , 0.82833838]),\n",
       " 'score_time': array([0.05462241, 0.05377913, 0.05397677, 0.05380821, 0.05374074]),\n",
       " 'test_precision_macro': array([0.83231598, 0.85194878, 0.84337922, 0.83407898, 0.83715328]),\n",
       " 'test_recall_macro': array([0.82024217, 0.84270061, 0.83000603, 0.81948637, 0.82876866])}"
      ]
     },
     "execution_count": 68,
     "metadata": {},
     "output_type": "execute_result"
    }
   ],
   "source": [
    "rfc_metrics"
   ]
  },
  {
   "cell_type": "code",
   "execution_count": 69,
   "metadata": {
    "colab": {
     "base_uri": "https://localhost:8080/"
    },
    "id": "sEZQdiNssly5",
    "outputId": "750cb180-8b99-4398-93e4-0c812292fc6a"
   },
   "outputs": [
    {
     "data": {
      "text/plain": [
       "(0.8306222915649414,\n",
       " 0.05398545265197754,\n",
       " 0.8397752469543723,\n",
       " 0.8282407679045505)"
      ]
     },
     "execution_count": 69,
     "metadata": {},
     "output_type": "execute_result"
    }
   ],
   "source": [
    "m1 = rfc_metrics['fit_time'].mean()\n",
    "m2 = rfc_metrics['score_time'].mean()\n",
    "m3 = rfc_metrics['test_precision_macro'].mean()\n",
    "m4 = rfc_metrics['test_recall_macro'].mean()\n",
    "\n",
    "m1, m2, m3, m4"
   ]
  },
  {
   "cell_type": "code",
   "execution_count": 70,
   "metadata": {
    "colab": {
     "base_uri": "https://localhost:8080/"
    },
    "id": "pup6ik4kCEib",
    "outputId": "48605314-a543-499e-e5ff-e910689106a0"
   },
   "outputs": [
    {
     "data": {
      "text/plain": [
       "array([0.80645161, 0.82685253, 0.81951577, 0.82758621, 0.8217168 ])"
      ]
     },
     "execution_count": 70,
     "metadata": {},
     "output_type": "execute_result"
    }
   ],
   "source": [
    "# Extra Trees Parameters\n",
    "et_params = {\n",
    "    'n_jobs': -1,\n",
    "    'n_estimators':400,\n",
    "    'max_depth': 5,\n",
    "    'min_samples_leaf': 2,\n",
    "}\n",
    "etc_model = ClassifierModel(clf=ExtraTreesClassifier, params=et_params)\n",
    "etc_scores, etc_train_pred, etc_metrics = trainModel(etc_model,x_train, y_train, x_test, 5) # Random Forest\n",
    "etc_scores"
   ]
  },
  {
   "cell_type": "code",
   "execution_count": 71,
   "metadata": {
    "colab": {
     "base_uri": "https://localhost:8080/"
    },
    "id": "7uQGU34cySzY",
    "outputId": "4ca5e0b4-1e98-4736-946c-112df8278629"
   },
   "outputs": [
    {
     "data": {
      "text/plain": [
       "{'fit_time': array([0.23888445, 0.2240417 , 0.2238276 , 0.23532987, 0.22747493]),\n",
       " 'score_time': array([0.06778431, 0.0680418 , 0.06698751, 0.07159066, 0.0747602 ]),\n",
       " 'test_precision_macro': array([0.81334586, 0.83474068, 0.8267782 , 0.83004926, 0.82667342]),\n",
       " 'test_recall_macro': array([0.80265113, 0.82657029, 0.81604836, 0.81796082, 0.81999134])}"
      ]
     },
     "execution_count": 71,
     "metadata": {},
     "output_type": "execute_result"
    }
   ],
   "source": [
    "etc_metrics"
   ]
  },
  {
   "cell_type": "code",
   "execution_count": 72,
   "metadata": {
    "colab": {
     "base_uri": "https://localhost:8080/"
    },
    "id": "aK6MoaAEtSTw",
    "outputId": "799e3100-a1e8-4ee5-87c2-3c89d1531f6b"
   },
   "outputs": [
    {
     "data": {
      "text/plain": [
       "(0.2299117088317871, 0.0698328971862793, 0.8263174834710922, 0.816644388434147)"
      ]
     },
     "execution_count": 72,
     "metadata": {},
     "output_type": "execute_result"
    }
   ],
   "source": [
    "m1 = etc_metrics['fit_time'].mean()\n",
    "m2 = etc_metrics['score_time'].mean()\n",
    "m3 = etc_metrics['test_precision_macro'].mean()\n",
    "m4 = etc_metrics['test_recall_macro'].mean()\n",
    "\n",
    "m1, m2, m3, m4"
   ]
  },
  {
   "cell_type": "code",
   "execution_count": 73,
   "metadata": {
    "colab": {
     "base_uri": "https://localhost:8080/"
    },
    "id": "8-m0_H2DCJKW",
    "outputId": "fa5bcaac-5337-4a04-cbc0-ff01a7e98c8d"
   },
   "outputs": [
    {
     "data": {
      "text/plain": [
       "array([0.85483871, 0.8429934 , 0.84739545, 0.84446075, 0.84739545])"
      ]
     },
     "execution_count": 73,
     "metadata": {},
     "output_type": "execute_result"
    }
   ],
   "source": [
    "# AdaBoost parameters\n",
    "ada_params = {\n",
    "    'n_estimators': 400,\n",
    "    'learning_rate' : 0.65\n",
    "}\n",
    "ada_model = ClassifierModel(clf=AdaBoostClassifier, params=ada_params)\n",
    "ada_scores, ada_train_pred, ada_metrics = trainModel(ada_model,x_train, y_train, x_test, 5) # Random Forest\n",
    "ada_scores\n"
   ]
  },
  {
   "cell_type": "code",
   "execution_count": 74,
   "metadata": {
    "colab": {
     "base_uri": "https://localhost:8080/"
    },
    "id": "Qf6g3B7OyX0h",
    "outputId": "477e4693-9345-4159-a1c6-6be20f43cfe1"
   },
   "outputs": [
    {
     "data": {
      "text/plain": [
       "{'fit_time': array([1.15659618, 1.19173455, 1.2660532 , 1.13639832, 1.13839936]),\n",
       " 'score_time': array([0.08383012, 0.08792949, 0.0828476 , 0.08298731, 0.08356309]),\n",
       " 'test_precision_macro': array([0.85763422, 0.84351746, 0.84909579, 0.84669005, 0.84809964]),\n",
       " 'test_recall_macro': array([0.8547739 , 0.84292131, 0.84747222, 0.84472527, 0.84731265])}"
      ]
     },
     "execution_count": 74,
     "metadata": {},
     "output_type": "execute_result"
    }
   ],
   "source": [
    "ada_metrics"
   ]
  },
  {
   "cell_type": "code",
   "execution_count": 75,
   "metadata": {
    "colab": {
     "base_uri": "https://localhost:8080/"
    },
    "id": "UdXa4Ac4tpIm",
    "outputId": "e6202144-5ec7-4a92-bcf5-0a2d653aafd6"
   },
   "outputs": [
    {
     "data": {
      "text/plain": [
       "(1.1778363227844237,\n",
       " 0.08423151969909667,\n",
       " 0.849007431236531,\n",
       " 0.8474410711472066)"
      ]
     },
     "execution_count": 75,
     "metadata": {},
     "output_type": "execute_result"
    }
   ],
   "source": [
    "m1 = ada_metrics['fit_time'].mean()\n",
    "m2 = ada_metrics['score_time'].mean()\n",
    "m3 = ada_metrics['test_precision_macro'].mean()\n",
    "m4 = ada_metrics['test_recall_macro'].mean()\n",
    "\n",
    "m1, m2, m3, m4"
   ]
  },
  {
   "cell_type": "code",
   "execution_count": 76,
   "metadata": {
    "colab": {
     "base_uri": "https://localhost:8080/"
    },
    "id": "Yif_u39vCUka",
    "outputId": "5cc04619-6ab2-40c6-fe1b-4569f4681a5b"
   },
   "outputs": [
    {
     "data": {
      "text/plain": [
       "array([0.93181818, 0.93690389, 0.93983859, 0.94790902, 0.94350697])"
      ]
     },
     "execution_count": 76,
     "metadata": {},
     "output_type": "execute_result"
    }
   ],
   "source": [
    "# Gradient Boosting parameters\n",
    "gb_params = {\n",
    "    'n_estimators': 400,\n",
    "    'max_depth': 6,\n",
    "}\n",
    "gbc_model = ClassifierModel(clf=GradientBoostingClassifier, params=gb_params)\n",
    "gbc_scores, gbc_train_pred, gbc_metrics = trainModel(gbc_model,x_train, y_train, x_test, 5) # Random Forest\n",
    "gbc_scores\n"
   ]
  },
  {
   "cell_type": "code",
   "execution_count": 77,
   "metadata": {
    "colab": {
     "base_uri": "https://localhost:8080/"
    },
    "id": "KuGEEyZcybgk",
    "outputId": "1b21ba80-7375-4199-a76b-380367190e3d"
   },
   "outputs": [
    {
     "data": {
      "text/plain": [
       "{'fit_time': array([3.97531462, 3.40294671, 3.34899116, 3.27825856, 3.44026303]),\n",
       " 'score_time': array([0.01597309, 0.01485467, 0.01384974, 0.01369786, 0.01532316]),\n",
       " 'test_precision_macro': array([0.93309139, 0.93837958, 0.94006122, 0.94922742, 0.94631151]),\n",
       " 'test_recall_macro': array([0.93103545, 0.93756406, 0.93986414, 0.9480957 , 0.94564267])}"
      ]
     },
     "execution_count": 77,
     "metadata": {},
     "output_type": "execute_result"
    }
   ],
   "source": [
    "gbc_metrics"
   ]
  },
  {
   "cell_type": "code",
   "execution_count": 78,
   "metadata": {
    "colab": {
     "base_uri": "https://localhost:8080/"
    },
    "id": "e_pxrLLct8Ah",
    "outputId": "e26f40a8-3139-4978-dbd2-7331d8f0fff0"
   },
   "outputs": [
    {
     "data": {
      "text/plain": [
       "(3.489154815673828,\n",
       " 0.014739704132080079,\n",
       " 0.9414142239295537,\n",
       " 0.9404404019203693)"
      ]
     },
     "execution_count": 78,
     "metadata": {},
     "output_type": "execute_result"
    }
   ],
   "source": [
    "m1 = gbc_metrics['fit_time'].mean()\n",
    "m2 = gbc_metrics['score_time'].mean()\n",
    "m3 = gbc_metrics['test_precision_macro'].mean()\n",
    "m4 = gbc_metrics['test_recall_macro'].mean()\n",
    "\n",
    "m1, m2, m3, m4"
   ]
  },
  {
   "cell_type": "code",
   "execution_count": 79,
   "metadata": {
    "colab": {
     "base_uri": "https://localhost:8080/"
    },
    "id": "uycorMALb8ei",
    "outputId": "5d8a2552-6b8e-49aa-b0b4-e9388d2b381c"
   },
   "outputs": [
    {
     "data": {
      "text/plain": [
       "array([0.7829912 , 0.80264123, 0.78870139, 0.78650037, 0.80117388])"
      ]
     },
     "execution_count": 79,
     "metadata": {},
     "output_type": "execute_result"
    }
   ],
   "source": [
    "# Gaussian NB Classifier parameters \n",
    "gnb_params = {\n",
    "    'var_smoothing': 1e-09\n",
    "    }\n",
    "gnb_model = ClassifierModel(clf=GaussianNB, params=gnb_params)\n",
    "gnb_scores, gnb_train_pred, gnb_metrics = trainModel(gnb_model,x_train, y_train, x_test, 5) \n",
    "gnb_scores"
   ]
  },
  {
   "cell_type": "code",
   "execution_count": 80,
   "metadata": {
    "colab": {
     "base_uri": "https://localhost:8080/"
    },
    "id": "eDf8gX3uyia8",
    "outputId": "fe2de2a8-ac58-47cd-9186-43ae8b6001af"
   },
   "outputs": [
    {
     "data": {
      "text/plain": [
       "{'fit_time': array([0.00338387, 0.00349069, 0.00297928, 0.00345612, 0.00268149]),\n",
       " 'score_time': array([0.0034492 , 0.00484085, 0.00342894, 0.00310063, 0.00327897]),\n",
       " 'test_precision_macro': array([0.81728303, 0.83493888, 0.82790413, 0.82403513, 0.83133161]),\n",
       " 'test_recall_macro': array([0.78274994, 0.80207068, 0.78908147, 0.78761988, 0.80061946])}"
      ]
     },
     "execution_count": 80,
     "metadata": {},
     "output_type": "execute_result"
    }
   ],
   "source": [
    "gnb_metrics"
   ]
  },
  {
   "cell_type": "code",
   "execution_count": 81,
   "metadata": {
    "colab": {
     "base_uri": "https://localhost:8080/"
    },
    "id": "FtgPKy91ub8s",
    "outputId": "c6d60099-2098-4257-f929-b93afa2d6764"
   },
   "outputs": [
    {
     "data": {
      "text/plain": [
       "(0.0031982898712158204,\n",
       " 0.0036197185516357424,\n",
       " 0.8270985544431901,\n",
       " 0.7924282877055832)"
      ]
     },
     "execution_count": 81,
     "metadata": {},
     "output_type": "execute_result"
    }
   ],
   "source": [
    "m1 = gnb_metrics['fit_time'].mean()\n",
    "m2 = gnb_metrics['score_time'].mean()\n",
    "m3 = gnb_metrics['test_precision_macro'].mean()\n",
    "m4 = gnb_metrics['test_recall_macro'].mean()\n",
    "\n",
    "m1, m2, m3, m4"
   ]
  },
  {
   "cell_type": "code",
   "execution_count": 82,
   "metadata": {
    "colab": {
     "base_uri": "https://localhost:8080/"
    },
    "id": "KkECc6BpOH8s",
    "outputId": "bdaf6244-3c05-440f-e1c9-3549c001a07b"
   },
   "outputs": [
    {
     "data": {
      "text/plain": [
       "array([0.87829912, 0.88334556, 0.86940572, 0.86940572, 0.87527513])"
      ]
     },
     "execution_count": 82,
     "metadata": {},
     "output_type": "execute_result"
    }
   ],
   "source": [
    "from sklearn.neighbors import KNeighborsClassifier\n",
    "# KNeighborsClassifier parameters \n",
    "knc_params = {\n",
    "    'n_neighbors': 5\n",
    "    }\n",
    "knc_model = ClassifierModel(clf=KNeighborsClassifier, params=knc_params)\n",
    "knc_scores, knc_train_pred, knc_metrics = trainModel(knc_model,x_train, y_train, x_test, 5) \n",
    "knc_scores"
   ]
  },
  {
   "cell_type": "code",
   "execution_count": 83,
   "metadata": {
    "colab": {
     "base_uri": "https://localhost:8080/"
    },
    "id": "UW1gM1PYylrO",
    "outputId": "bb1fc5ac-7590-453a-d55f-c140768930bc"
   },
   "outputs": [
    {
     "data": {
      "text/plain": [
       "{'fit_time': array([0.00903201, 0.00694299, 0.00662947, 0.0064168 , 0.00600171]),\n",
       " 'score_time': array([0.04678226, 0.04380608, 0.04134274, 0.03807807, 0.03714538]),\n",
       " 'test_precision_macro': array([0.89872795, 0.90176897, 0.88703947, 0.88938255, 0.89628403]),\n",
       " 'test_recall_macro': array([0.87813331, 0.88295373, 0.86964086, 0.87015581, 0.87485359])}"
      ]
     },
     "execution_count": 83,
     "metadata": {},
     "output_type": "execute_result"
    }
   ],
   "source": [
    "knc_metrics"
   ]
  },
  {
   "cell_type": "code",
   "execution_count": 84,
   "metadata": {
    "colab": {
     "base_uri": "https://localhost:8080/"
    },
    "id": "b4i51ppeuzOI",
    "outputId": "43dd2b92-9f3e-417f-fd8e-b392c836aa5c"
   },
   "outputs": [
    {
     "data": {
      "text/plain": [
       "(0.007004594802856446,\n",
       " 0.0414309024810791,\n",
       " 0.8946405932207139,\n",
       " 0.8751474588676252)"
      ]
     },
     "execution_count": 84,
     "metadata": {},
     "output_type": "execute_result"
    }
   ],
   "source": [
    "m1 = knc_metrics['fit_time'].mean()\n",
    "m2 = knc_metrics['score_time'].mean()\n",
    "m3 = knc_metrics['test_precision_macro'].mean()\n",
    "m4 = knc_metrics['test_recall_macro'].mean()\n",
    "\n",
    "m1, m2, m3, m4"
   ]
  },
  {
   "cell_type": "code",
   "execution_count": null,
   "metadata": {
    "id": "WrwkdMbLqLJN"
   },
   "outputs": [],
   "source": []
  },
  {
   "cell_type": "code",
   "execution_count": 85,
   "metadata": {
    "id": "1l5_AKzRYQfM"
   },
   "outputs": [],
   "source": [
    "#acc_pred_train = pd.DataFrame ({'RandomForest': rfc_scores.ravel(),\n",
    "#     'ExtraTrees': etc_scores.ravel(),\n",
    "#     'AdaBoost': ada_scores.ravel(),\n",
    "#     'GaussianNB' : gnb_scores.ravel(),\n",
    "#     'KNNClassifier' : knc_scores.ravel()\n",
    "#    })\n",
    "#acc_pred_train.head()"
   ]
  },
  {
   "cell_type": "code",
   "execution_count": 86,
   "metadata": {
    "colab": {
     "base_uri": "https://localhost:8080/"
    },
    "id": "EwuN7bdYb7ZH",
    "outputId": "c6b3e716-d2a2-4caf-d45a-d2b010ad87ea"
   },
   "outputs": [
    {
     "data": {
      "text/plain": [
       "AdaBoost             0.847417\n",
       "RandomForest         0.829666\n",
       "ExtraTrees           0.820425\n",
       "GaussianNB           0.792402\n",
       "K-NearestNeighbor    0.875146\n",
       "GradientBoosting     0.939995\n",
       "dtype: float64"
      ]
     },
     "execution_count": 86,
     "metadata": {},
     "output_type": "execute_result"
    }
   ],
   "source": [
    "acc_pred_train = pd.DataFrame ({\n",
    "     'AdaBoost': ada_scores.ravel(),\n",
    "     'RandomForest': rfc_scores.ravel(),\n",
    "     'ExtraTrees': etc_scores.ravel(),\n",
    "     'GaussianNB' : gnb_scores.ravel(),\n",
    "     'K-NearestNeighbor' : knc_scores.ravel(),\n",
    "     'GradientBoosting' : gbc_scores.ravel()\n",
    "    })\n",
    "acc_pred_train.head().mean()"
   ]
  },
  {
   "cell_type": "code",
   "execution_count": 87,
   "metadata": {
    "colab": {
     "base_uri": "https://localhost:8080/",
     "height": 452
    },
    "id": "p8B6vnO25vJ4",
    "outputId": "47ecfb83-0236-426f-bdbe-2ce34cd8f960"
   },
   "outputs": [
    {
     "data": {
      "text/plain": [
       "<AxesSubplot:title={'center':'Correlação entre os classificadores'}>"
      ]
     },
     "execution_count": 87,
     "metadata": {},
     "output_type": "execute_result"
    },
    {
     "data": {
      "image/png": "[encoded data removed]",
      "text/plain": [
       "<Figure size 504x360 with 2 Axes>"
      ]
     },
     "metadata": {},
     "output_type": "display_data"
    }
   ],
   "source": [
    "plt.figure(figsize=(7,5))\n",
    "plt.title('Correlação entre os classificadores', y=1.05, size=15)\n",
    "sns.heatmap(acc_pred_train.astype(float).corr(), annot=True,cmap='YlGnBu')"
   ]
  },
  {
   "cell_type": "markdown",
   "metadata": {
    "id": "sVmqN2UFC3vI"
   },
   "source": [
    "# Stacking Model"
   ]
  },
  {
   "cell_type": "code",
   "execution_count": 88,
   "metadata": {
    "id": "m-r4zHDCb2qD"
   },
   "outputs": [],
   "source": [
    "x_train = np.column_stack(( ada_train_pred, rfc_train_pred, etc_train_pred , gnb_train_pred, knc_train_pred, gbc_train_pred))"
   ]
  },
  {
   "cell_type": "code",
   "execution_count": 89,
   "metadata": {
    "id": "e8iL5SQEC65W"
   },
   "outputs": [],
   "source": [
    "#x_train = np.column_stack(( rfc_train_pred, etc_train_pred, ada_train_pred, gnb_train_pred, knc_train_pred))"
   ]
  },
  {
   "cell_type": "code",
   "execution_count": 90,
   "metadata": {
    "colab": {
     "base_uri": "https://localhost:8080/"
    },
    "id": "dmQ5qOe_EkAa",
    "outputId": "b3519ca6-4e2a-4936-fc72-6c97fe77f4d7"
   },
   "outputs": [
    {
     "data": {
      "text/plain": [
       "(6816, 6)"
      ]
     },
     "execution_count": 90,
     "metadata": {},
     "output_type": "execute_result"
    }
   ],
   "source": [
    "x_train.shape"
   ]
  },
  {
   "cell_type": "code",
   "execution_count": 91,
   "metadata": {
    "id": "8-pFuscaEOPo"
   },
   "outputs": [],
   "source": [
    "def trainStackModel(x_train, y_train, x_test, n_folds, seed):\n",
    "    cv = KFold(n_splits= n_folds, random_state=seed, shuffle=True)\n",
    "    gbm = xgb.XGBClassifier(\n",
    "     n_estimators= 2000,\n",
    "     max_depth= 4,\n",
    "     min_child_weight= 2,\n",
    "     gamma=0.9,                        \n",
    "     subsample=0.8,\n",
    "     colsample_bytree=0.8,\n",
    "     objective= 'binary:logistic',\n",
    "     scale_pos_weight=1).fit(x_train, y_train)\n",
    "    \n",
    "    scores = cross_val_score(gbm, x_train, y_train, scoring='accuracy', cv=cv)\n",
    "    return scores"
   ]
  },
  {
   "cell_type": "code",
   "execution_count": 92,
   "metadata": {
    "id": "ZsP0swX7EpG2"
   },
   "outputs": [],
   "source": [
    "stackModel_scores = trainStackModel(x_train, y_train, x_test, 5, 0)"
   ]
  },
  {
   "cell_type": "code",
   "execution_count": 93,
   "metadata": {
    "colab": {
     "base_uri": "https://localhost:8080/",
     "height": 206
    },
    "id": "hKuJOkCFRx2i",
    "outputId": "cc7d1250-b414-4744-de0e-c611ee213960"
   },
   "outputs": [
    {
     "data": {
      "text/html": [
       "<div>\n",
       "<style scoped>\n",
       "    .dataframe tbody tr th:only-of-type {\n",
       "        vertical-align: middle;\n",
       "    }\n",
       "\n",
       "    .dataframe tbody tr th {\n",
       "        vertical-align: top;\n",
       "    }\n",
       "\n",
       "    .dataframe thead th {\n",
       "        text-align: right;\n",
       "    }\n",
       "</style>\n",
       "<table border=\"1\" class=\"dataframe\">\n",
       "  <thead>\n",
       "    <tr style=\"text-align: right;\">\n",
       "      <th></th>\n",
       "      <th>AdaBoost</th>\n",
       "      <th>RandomForest</th>\n",
       "      <th>ExtraTrees</th>\n",
       "      <th>GaussianNB</th>\n",
       "      <th>K-NearestNeighbor</th>\n",
       "      <th>GradientBoosting</th>\n",
       "    </tr>\n",
       "  </thead>\n",
       "  <tbody>\n",
       "    <tr>\n",
       "      <th>0</th>\n",
       "      <td>0.854839</td>\n",
       "      <td>0.823314</td>\n",
       "      <td>0.806452</td>\n",
       "      <td>0.782991</td>\n",
       "      <td>0.878299</td>\n",
       "      <td>0.931818</td>\n",
       "    </tr>\n",
       "    <tr>\n",
       "      <th>1</th>\n",
       "      <td>0.842993</td>\n",
       "      <td>0.841526</td>\n",
       "      <td>0.826853</td>\n",
       "      <td>0.802641</td>\n",
       "      <td>0.883346</td>\n",
       "      <td>0.936904</td>\n",
       "    </tr>\n",
       "    <tr>\n",
       "      <th>2</th>\n",
       "      <td>0.847395</td>\n",
       "      <td>0.829054</td>\n",
       "      <td>0.819516</td>\n",
       "      <td>0.788701</td>\n",
       "      <td>0.869406</td>\n",
       "      <td>0.939839</td>\n",
       "    </tr>\n",
       "    <tr>\n",
       "      <th>3</th>\n",
       "      <td>0.844461</td>\n",
       "      <td>0.822450</td>\n",
       "      <td>0.827586</td>\n",
       "      <td>0.786500</td>\n",
       "      <td>0.869406</td>\n",
       "      <td>0.947909</td>\n",
       "    </tr>\n",
       "    <tr>\n",
       "      <th>4</th>\n",
       "      <td>0.847395</td>\n",
       "      <td>0.831988</td>\n",
       "      <td>0.821717</td>\n",
       "      <td>0.801174</td>\n",
       "      <td>0.875275</td>\n",
       "      <td>0.943507</td>\n",
       "    </tr>\n",
       "  </tbody>\n",
       "</table>\n",
       "</div>"
      ],
      "text/plain": [
       "   AdaBoost  RandomForest  ExtraTrees  GaussianNB  K-NearestNeighbor  \\\n",
       "0  0.854839      0.823314    0.806452    0.782991           0.878299   \n",
       "1  0.842993      0.841526    0.826853    0.802641           0.883346   \n",
       "2  0.847395      0.829054    0.819516    0.788701           0.869406   \n",
       "3  0.844461      0.822450    0.827586    0.786500           0.869406   \n",
       "4  0.847395      0.831988    0.821717    0.801174           0.875275   \n",
       "\n",
       "   GradientBoosting  \n",
       "0          0.931818  \n",
       "1          0.936904  \n",
       "2          0.939839  \n",
       "3          0.947909  \n",
       "4          0.943507  "
      ]
     },
     "execution_count": 93,
     "metadata": {},
     "output_type": "execute_result"
    }
   ],
   "source": [
    "acc_pred_train"
   ]
  },
  {
   "cell_type": "code",
   "execution_count": 94,
   "metadata": {
    "colab": {
     "base_uri": "https://localhost:8080/",
     "height": 206
    },
    "id": "twBG6xuAehag",
    "outputId": "f44b8da3-86ec-48d5-ab69-ce597a46fa61"
   },
   "outputs": [
    {
     "data": {
      "text/html": [
       "<div>\n",
       "<style scoped>\n",
       "    .dataframe tbody tr th:only-of-type {\n",
       "        vertical-align: middle;\n",
       "    }\n",
       "\n",
       "    .dataframe tbody tr th {\n",
       "        vertical-align: top;\n",
       "    }\n",
       "\n",
       "    .dataframe thead th {\n",
       "        text-align: right;\n",
       "    }\n",
       "</style>\n",
       "<table border=\"1\" class=\"dataframe\">\n",
       "  <thead>\n",
       "    <tr style=\"text-align: right;\">\n",
       "      <th></th>\n",
       "      <th>AdaBoost</th>\n",
       "      <th>RandomForest</th>\n",
       "      <th>ExtraTrees</th>\n",
       "      <th>GaussianNB</th>\n",
       "      <th>K-NearestNeighbor</th>\n",
       "      <th>GradientBoosting</th>\n",
       "      <th>StackingModel</th>\n",
       "    </tr>\n",
       "  </thead>\n",
       "  <tbody>\n",
       "    <tr>\n",
       "      <th>0</th>\n",
       "      <td>0.854839</td>\n",
       "      <td>0.823314</td>\n",
       "      <td>0.806452</td>\n",
       "      <td>0.782991</td>\n",
       "      <td>0.878299</td>\n",
       "      <td>0.931818</td>\n",
       "      <td>0.938416</td>\n",
       "    </tr>\n",
       "    <tr>\n",
       "      <th>1</th>\n",
       "      <td>0.842993</td>\n",
       "      <td>0.841526</td>\n",
       "      <td>0.826853</td>\n",
       "      <td>0.802641</td>\n",
       "      <td>0.883346</td>\n",
       "      <td>0.936904</td>\n",
       "      <td>0.936904</td>\n",
       "    </tr>\n",
       "    <tr>\n",
       "      <th>2</th>\n",
       "      <td>0.847395</td>\n",
       "      <td>0.829054</td>\n",
       "      <td>0.819516</td>\n",
       "      <td>0.788701</td>\n",
       "      <td>0.869406</td>\n",
       "      <td>0.939839</td>\n",
       "      <td>0.936170</td>\n",
       "    </tr>\n",
       "    <tr>\n",
       "      <th>3</th>\n",
       "      <td>0.844461</td>\n",
       "      <td>0.822450</td>\n",
       "      <td>0.827586</td>\n",
       "      <td>0.786500</td>\n",
       "      <td>0.869406</td>\n",
       "      <td>0.947909</td>\n",
       "      <td>0.947909</td>\n",
       "    </tr>\n",
       "    <tr>\n",
       "      <th>4</th>\n",
       "      <td>0.847395</td>\n",
       "      <td>0.831988</td>\n",
       "      <td>0.821717</td>\n",
       "      <td>0.801174</td>\n",
       "      <td>0.875275</td>\n",
       "      <td>0.943507</td>\n",
       "      <td>0.944974</td>\n",
       "    </tr>\n",
       "  </tbody>\n",
       "</table>\n",
       "</div>"
      ],
      "text/plain": [
       "   AdaBoost  RandomForest  ExtraTrees  GaussianNB  K-NearestNeighbor  \\\n",
       "0  0.854839      0.823314    0.806452    0.782991           0.878299   \n",
       "1  0.842993      0.841526    0.826853    0.802641           0.883346   \n",
       "2  0.847395      0.829054    0.819516    0.788701           0.869406   \n",
       "3  0.844461      0.822450    0.827586    0.786500           0.869406   \n",
       "4  0.847395      0.831988    0.821717    0.801174           0.875275   \n",
       "\n",
       "   GradientBoosting  StackingModel  \n",
       "0          0.931818       0.938416  \n",
       "1          0.936904       0.936904  \n",
       "2          0.939839       0.936170  \n",
       "3          0.947909       0.947909  \n",
       "4          0.943507       0.944974  "
      ]
     },
     "execution_count": 94,
     "metadata": {},
     "output_type": "execute_result"
    }
   ],
   "source": [
    "acc_pred_train['StackingModel'] = stackModel_scores\n",
    "acc_pred_train"
   ]
  },
  {
   "cell_type": "code",
   "execution_count": 95,
   "metadata": {
    "colab": {
     "base_uri": "https://localhost:8080/"
    },
    "id": "djtxA0bpsSmz",
    "outputId": "a215eac9-10f8-4349-8a2f-4cf5909cca10"
   },
   "outputs": [
    {
     "data": {
      "text/plain": [
       "0.9408747738191803"
      ]
     },
     "execution_count": 95,
     "metadata": {},
     "output_type": "execute_result"
    }
   ],
   "source": [
    "stackModel_scores.mean()"
   ]
  },
  {
   "cell_type": "code",
   "execution_count": 96,
   "metadata": {
    "colab": {
     "base_uri": "https://localhost:8080/"
    },
    "id": "iewBZ4vCsA2_",
    "outputId": "219c79a2-19cb-444f-e056-c760fc25b543"
   },
   "outputs": [
    {
     "data": {
      "text/plain": [
       "AdaBoost             0.847417\n",
       "RandomForest         0.829666\n",
       "ExtraTrees           0.820425\n",
       "GaussianNB           0.792402\n",
       "K-NearestNeighbor    0.875146\n",
       "GradientBoosting     0.939995\n",
       "StackingModel        0.940875\n",
       "dtype: float64"
      ]
     },
     "execution_count": 96,
     "metadata": {},
     "output_type": "execute_result"
    }
   ],
   "source": [
    "acc_pred_train.mean()"
   ]
  },
  {
   "cell_type": "markdown",
   "metadata": {
    "id": "aPi20L_J-UWB"
   },
   "source": [
    "# Deploy"
   ]
  },
  {
   "cell_type": "code",
   "execution_count": 97,
   "metadata": {
    "id": "ltys2Laz_xWx"
   },
   "outputs": [],
   "source": [
    "model = xgb.XGBClassifier(\n",
    "     n_estimators= 2000,\n",
    "     max_depth= 4,\n",
    "     min_child_weight= 2,\n",
    "     gamma=0.9,                        \n",
    "     subsample=0.8,\n",
    "     colsample_bytree=0.8,\n",
    "     objective= 'binary:logistic',\n",
    "     scale_pos_weight=1).fit(x_train, y_train)"
   ]
  },
  {
   "cell_type": "code",
   "execution_count": 98,
   "metadata": {
    "id": "sEp2vcxA-TSL"
   },
   "outputs": [],
   "source": [
    "import pickle\n",
    "pickle_out = open('model.pkl', 'wb')\n",
    "pickle.dump(model, pickle_out)\n",
    "pickle_out.close()"
   ]
  },
  {
   "cell_type": "code",
   "execution_count": 99,
   "metadata": {
    "id": "Vuu5M1mh_lA4"
   },
   "outputs": [],
   "source": [
    "x_test.to_csv(\"X_test.csv\", index = False)"
   ]
  }
 ],
 "metadata": {
  "colab": {
   "collapsed_sections": [
    "c0g3Bqwzrdqk"
   ],
   "name": "stroke-prediction.ipynb",
   "provenance": []
  },
  "kernelspec": {
   "display_name": "Python 3 (ipykernel)",
   "language": "python",
   "name": "python3"
  },
  "language_info": {
   "codemirror_mode": {
    "name": "ipython",
    "version": 3
   },
   "file_extension": ".py",
   "mimetype": "text/x-python",
   "name": "python",
   "nbconvert_exporter": "python",
   "pygments_lexer": "ipython3",
   "version": "3.8.10"
  }
 },
 "nbformat": 4,
 "nbformat_minor": 1
}
